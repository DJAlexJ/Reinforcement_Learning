{
  "nbformat": 4,
  "nbformat_minor": 0,
  "metadata": {
    "colab": {
      "name": "Reinforcement_learning_baseline_averaged.ipynb",
      "provenance": [],
      "collapsed_sections": []
    },
    "kernelspec": {
      "name": "python3",
      "display_name": "Python 3"
    },
    "accelerator": "GPU"
  },
  "cells": [
    {
      "cell_type": "code",
      "metadata": {
        "id": "av4t4b5g45el",
        "colab_type": "code",
        "colab": {}
      },
      "source": [
        "import sys\n",
        "import torch  \n",
        "import gym\n",
        "import numpy as np\n",
        "import pandas as pd\n",
        "import torch.nn as nn\n",
        "import torch.optim as optim\n",
        "import torch.nn.functional as F\n",
        "from torch.autograd import Variable\n",
        "import matplotlib.pyplot as plt\n",
        "from tqdm import tqdm\n",
        "from scipy.optimize import least_squares"
      ],
      "execution_count": 0,
      "outputs": []
    },
    {
      "cell_type": "code",
      "metadata": {
        "id": "s17K4twqNjBo",
        "colab_type": "code",
        "colab": {}
      },
      "source": [
        "x = torch.tensor([1.0], requires_grad=True)"
      ],
      "execution_count": 0,
      "outputs": []
    },
    {
      "cell_type": "code",
      "metadata": {
        "id": "j1IEt8dQNnKp",
        "colab_type": "code",
        "colab": {}
      },
      "source": [
        "x = x + 2"
      ],
      "execution_count": 0,
      "outputs": []
    },
    {
      "cell_type": "code",
      "metadata": {
        "id": "8uyGPkxcNowM",
        "colab_type": "code",
        "colab": {
          "base_uri": "https://localhost:8080/",
          "height": 34
        },
        "outputId": "97ab2384-bece-4451-91e8-779ce7071aaf"
      },
      "source": [
        "x"
      ],
      "execution_count": 110,
      "outputs": [
        {
          "output_type": "execute_result",
          "data": {
            "text/plain": [
              "tensor([3.], grad_fn=<AddBackward0>)"
            ]
          },
          "metadata": {
            "tags": []
          },
          "execution_count": 110
        }
      ]
    },
    {
      "cell_type": "code",
      "metadata": {
        "id": "oTF0WguK-F70",
        "colab_type": "code",
        "outputId": "b9004432-d4b1-4932-a172-83037c6861a0",
        "colab": {
          "base_uri": "https://localhost:8080/",
          "height": 34
        }
      },
      "source": [
        "torch.cuda.is_available()"
      ],
      "execution_count": 0,
      "outputs": [
        {
          "output_type": "execute_result",
          "data": {
            "text/plain": [
              "True"
            ]
          },
          "metadata": {
            "tags": []
          },
          "execution_count": 45
        }
      ]
    },
    {
      "cell_type": "code",
      "metadata": {
        "id": "OFP-x3MA5LEN",
        "colab_type": "code",
        "colab": {}
      },
      "source": [
        "# Constants\n",
        "GAMMA = 0.99\n",
        "\n",
        "class PolicyNetwork(nn.Module):\n",
        "    def __init__(self, num_inputs, num_actions, hidden_size, learning_rate=3e-4):\n",
        "        super(PolicyNetwork, self).__init__()\n",
        "\n",
        "        self.num_actions = num_actions\n",
        "        self.linear1 = nn.Linear(num_inputs, hidden_size)\n",
        "        self.linear2 = nn.Linear(hidden_size, num_actions)\n",
        "        self.optimizer = optim.Adam(self.parameters(), lr=learning_rate)\n",
        "\n",
        "    def forward(self, state):\n",
        "        x = F.relu(self.linear1(state))\n",
        "        x = F.softmax(self.linear2(x), dim=1)\n",
        "        return x \n",
        "    \n",
        "    def get_action(self, state):\n",
        "        state = torch.from_numpy(state).float().unsqueeze(0)\n",
        "        probs = self.forward(Variable(state))\n",
        "        #Choose action with regard to policy\n",
        "        highest_prob_action = np.random.choice(self.num_actions, p=np.squeeze(probs.detach().numpy()))\n",
        "        log_prob = torch.log(probs.squeeze(0)[highest_prob_action]) #log for gradient\n",
        "        return highest_prob_action, log_prob"
      ],
      "execution_count": 0,
      "outputs": []
    },
    {
      "cell_type": "code",
      "metadata": {
        "id": "IK5vloYO5Ox5",
        "colab_type": "code",
        "colab": {}
      },
      "source": [
        "class ValueNetwork(nn.Module):\n",
        "    def __init__(self, num_inputs, num_actions, hidden_size, learning_rate=3e-4):\n",
        "        super(ValueNetwork, self).__init__()\n",
        "\n",
        "        self.num_actions = num_actions\n",
        "        self.linear1 = nn.Linear(num_inputs, hidden_size)\n",
        "        self.linear2 = nn.Linear(hidden_size, 1)\n",
        "        self.optimizer = optim.Adam(self.parameters(), lr=learning_rate)\n",
        "    \n",
        "    def forward(self, state):\n",
        "        state = Variable(torch.from_numpy(state).float().unsqueeze(0))\n",
        "        value = F.relu(self.linear1(state))\n",
        "        value = self.linear2(value)\n",
        "        return value"
      ],
      "execution_count": 0,
      "outputs": []
    },
    {
      "cell_type": "code",
      "metadata": {
        "id": "fH6RMdJm5Rao",
        "colab_type": "code",
        "colab": {}
      },
      "source": [
        "def update_policy(policy_network, trajectories_gradient):\n",
        "    policy_network.optimizer.zero_grad()    \n",
        "    policy_gradient = torch.stack(trajectories_gradient).sum()\n",
        "    policy_gradient.backward()\n",
        "    policy_network.optimizer.step()"
      ],
      "execution_count": 0,
      "outputs": []
    },
    {
      "cell_type": "code",
      "metadata": {
        "id": "f1wZxyEv-A_Y",
        "colab_type": "code",
        "colab": {}
      },
      "source": [
        "def count_trajectory_for_baseline(rewards, log_probs, baseline):\n",
        "    discounted_rewards = []\n",
        "\n",
        "    for t in range(len(rewards)):\n",
        "        Gt = 0 \n",
        "        pw = 0\n",
        "        for r in rewards[t:]:\n",
        "            Gt = Gt + GAMMA**pw * r\n",
        "            pw = pw + 1\n",
        "        discounted_rewards.append(Gt)\n",
        "        \n",
        "    discounted_rewards = torch.tensor(discounted_rewards)\n",
        "    discounted_rewards = (discounted_rewards - discounted_rewards.mean()) / (discounted_rewards.std() + 1e-9) # normalize discounted rewards\n",
        "\n",
        "    policy_gradient = []\n",
        "    log_deriv = []\n",
        "    for log_prob in log_probs:\n",
        "      if log_prob != 0:\n",
        "        log_prob.backward()\n",
        "        deriv = []\n",
        "        for param in policy_net.parameters():\n",
        "          deriv.append(param.grad.resize(param.grad.numel())**2)\n",
        "        deriv = torch.cat([tensor for tensor in deriv], 0)\n",
        "        log_deriv.append(deriv.sum())\n",
        "      else:\n",
        "        log_deriv.append(0)\n",
        "\n",
        "    for log_prob_deriv, Gt, bs in zip(log_deriv, discounted_rewards, baseline):\n",
        "        if log_prob_deriv == 0:\n",
        "            policy_gradient.append(torch.tensor([0.0], requires_grad = True))\n",
        "        else:\n",
        "            term = torch.tensor([log_prob_deriv], requires_grad = True)\n",
        "            term = term * (Gt - bs.resize(1))**2\n",
        "            #policy_gradient.append(torch.tensor([-log_prob_deriv * (Gt - bs)], requires_grad = True))\n",
        "            policy_gradient.append(term)\n",
        "    policy_gradient = torch.stack(policy_gradient).sum()\n",
        "    return policy_gradient"
      ],
      "execution_count": 0,
      "outputs": []
    },
    {
      "cell_type": "code",
      "metadata": {
        "id": "0K9WsvOe5UF4",
        "colab_type": "code",
        "colab": {}
      },
      "source": [
        "def count_trajectory_for_policy(rewards, log_probs, baseline):\n",
        "    discounted_rewards = []\n",
        "\n",
        "    for t in range(len(rewards)):\n",
        "        Gt = 0 \n",
        "        pw = 0\n",
        "        for r in rewards[t:]:\n",
        "            Gt = Gt + GAMMA**pw * r\n",
        "            pw = pw + 1\n",
        "        discounted_rewards.append(Gt)\n",
        "        \n",
        "    discounted_rewards = torch.tensor(discounted_rewards)\n",
        "    discounted_rewards = (discounted_rewards - discounted_rewards.mean()) / (discounted_rewards.std() + 1e-9) # normalize discounted rewards\n",
        "\n",
        "    policy_gradient = []\n",
        "    for log_prob, Gt, bs in zip(log_probs, discounted_rewards, baseline):\n",
        "        if log_prob == 0:\n",
        "            policy_gradient.append(torch.tensor([[0.0]], requires_grad = True))\n",
        "        else:\n",
        "            policy_gradient.append(-log_prob * (Gt - bs))\n",
        "    \n",
        "    policy_gradient = torch.stack(policy_gradient).sum()\n",
        "    return policy_gradient"
      ],
      "execution_count": 0,
      "outputs": []
    },
    {
      "cell_type": "code",
      "metadata": {
        "id": "B4LCCInY5Xvf",
        "colab_type": "code",
        "colab": {}
      },
      "source": [
        "def align_columns_zeros(array):\n",
        "    max_length = max(list(map(lambda x: len(x), array)))\n",
        "    for col in range(len(array)):\n",
        "        array[col] = np.pad(array[col], max_length - len(array[col]), 'constant', constant_values = 0)[max_length - len(array[col]):]\n",
        "    return array"
      ],
      "execution_count": 0,
      "outputs": []
    },
    {
      "cell_type": "code",
      "metadata": {
        "id": "pLm4i1Vh5b2P",
        "colab_type": "code",
        "colab": {}
      },
      "source": [
        "def baseline_approximation(policy_net, value_net, n_trajectories, n_epoch = 4000, early_stopping_rounds = 250):\n",
        "    max_steps = 10000\n",
        "    min_loss = float('inf')\n",
        "    stopping_rounds = 0\n",
        "    epoch = 1\n",
        "    while(stopping_rounds < early_stopping_rounds and epoch < n_epoch):\n",
        "        r_gradient = []\n",
        "        rewards = [[] for i in range(n_trajectories)]\n",
        "        log_probs = [[] for i in range(n_trajectories)]\n",
        "        baseline_values = [[] for i in range(n_trajectories)]\n",
        "    \n",
        "        for trajectory in range(n_trajectories):\n",
        "            state = env.reset()\n",
        "            \n",
        "            for steps in range(max_steps):\n",
        "                baseline = value_net.forward(state)\n",
        "                action, log_prob = policy_net.get_action(state)\n",
        "                new_state, reward, done, _ = env.step(np.array(action))\n",
        "                baseline_values[trajectory].append(baseline)\n",
        "                log_probs[trajectory].append(log_prob)\n",
        "                rewards[trajectory].append(reward)\n",
        "                if done:                    \n",
        "                    break\n",
        "                state = new_state\n",
        "        rewards = align_columns_zeros(rewards)\n",
        "        log_probs = align_columns_zeros(log_probs)\n",
        "        baseline_values = align_columns_zeros(baseline_values)\n",
        "        for col in range(len(rewards)):\n",
        "            traj = count_trajectory_for_baseline(rewards[col], log_probs[col], baseline_values[col])\n",
        "            r_gradient.append(traj)\n",
        "\n",
        "        r_gradient = torch.stack(r_gradient)\n",
        "        value_loss = r_gradient.mean()\n",
        "        if value_loss < min_loss:\n",
        "            min_loss = value_loss\n",
        "            torch.save(value_net, 'model.pth')\n",
        "            #print('{}. Current minimum value loss = {}'.format(epoch, value_loss))\n",
        "            stopping_rounds = 0\n",
        "        else:\n",
        "            stopping_rounds += 1\n",
        "        print('{}. Current value loss = {}, min value_loss = {}, stopping_round = {}'.format(epoch, value_loss, min_loss, stopping_rounds))\n",
        "        epoch += 1\n",
        "        value_net.optimizer.zero_grad()\n",
        "        value_loss.backward()\n",
        "        value_net.optimizer.step()\n",
        "    value_net = torch.load('model.pth')"
      ],
      "execution_count": 0,
      "outputs": []
    },
    {
      "cell_type": "code",
      "metadata": {
        "id": "UuJiO0Tm5ifD",
        "colab_type": "code",
        "colab": {}
      },
      "source": [
        "def cart_pole_baseline(value_net, n_trajectories = 2, episode_num = 1500, baseline_retrain = False, retrain_episodes = 50):\n",
        "    env = gym.make('CartPole-v0')\n",
        "    policy_net = PolicyNetwork(env.observation_space.shape[0], env.action_space.n, 256)\n",
        "    \n",
        "\n",
        "    max_episode_num = episode_num\n",
        "    max_steps = 10000\n",
        "    numsteps = [[] for i in range(n_trajectories)]\n",
        "    avg_numsteps = [[] for i in range(n_trajectories)]\n",
        "    all_rewards = [[] for i in range(n_trajectories)]\n",
        "\n",
        "    for episode in range(1, max_episode_num + 1):\n",
        "        r_gradient = []\n",
        "        rewards = [[] for i in range(n_trajectories)]\n",
        "        baseline_values = []\n",
        "        \n",
        "        for trajectory in range(n_trajectories):\n",
        "            state = env.reset()\n",
        "            log_probs = []\n",
        "            \n",
        "            for steps in range(max_steps):\n",
        "                #env.render()\n",
        "                baseline = value_net.forward(state)\n",
        "                action, log_prob = policy_net.get_action(state)\n",
        "                new_state, reward, done, _ = env.step(action)\n",
        "                log_probs.append(log_prob)\n",
        "                rewards[trajectory].append(reward)\n",
        "                baseline_values.append(baseline)\n",
        "                \n",
        "                if done:\n",
        "                    traj = count_trajectory_for_policy(rewards[trajectory], log_probs, baseline_values)                       \n",
        "                    r_gradient.append(traj)\n",
        "                    numsteps[trajectory].append(steps)\n",
        "                    avg_numsteps[trajectory].append(np.mean(numsteps[trajectory][-10:]))\n",
        "                    all_rewards[trajectory].append(np.sum(rewards[trajectory]))\n",
        "                    break\n",
        "\n",
        "                state = new_state\n",
        "                \n",
        "        update_policy(policy_net, r_gradient)                 \n",
        "        rewards = align_columns_zeros(rewards)\n",
        "        #print(all_rewards)\n",
        "        if episode % 10 == 0:\n",
        "            sys.stdout.write(\"episode: {}, total mean reward among trajectories: {}, average_reward_among_trajectories: {}\\n\".\\\n",
        "                                     format(episode, np.round(np.mean(np.sum(rewards, axis = 1)), decimals = 3),\\\n",
        "                                            np.round(np.mean(np.mean(all_rewards, axis = 0)[-10:]), decimals = 3)))\n",
        "            \n",
        "        if baseline_retrain == True:\n",
        "            if episode % retrain_episodes == 0:\n",
        "                baseline_approximation(policy_net, value_net, 3, n_epoch = 1000, early_stopping_rounds=10)\n",
        "        \n",
        "    return all_rewards, avg_numsteps"
      ],
      "execution_count": 0,
      "outputs": []
    },
    {
      "cell_type": "code",
      "metadata": {
        "id": "a-IAQduN5n25",
        "colab_type": "code",
        "outputId": "6881a3ee-09d1-4e37-89b1-bef0dbbe05e5",
        "colab": {
          "base_uri": "https://localhost:8080/",
          "height": 1000
        }
      },
      "source": [
        "%%time\n",
        "env = gym.make('CartPole-v0')\n",
        "policy_net = PolicyNetwork(env.observation_space.shape[0], env.action_space.n, 256)\n",
        "value_net = ValueNetwork(env.observation_space.shape[0], env.action_space.n, 256)\n",
        "baseline_approximation(policy_net, value_net, 15, early_stopping_rounds=150)"
      ],
      "execution_count": 197,
      "outputs": [
        {
          "output_type": "stream",
          "text": [
            "/usr/local/lib/python3.6/dist-packages/torch/tensor.py:362: UserWarning: non-inplace resize is deprecated\n",
            "  warnings.warn(\"non-inplace resize is deprecated\")\n",
            "/usr/local/lib/python3.6/dist-packages/torch/serialization.py:360: UserWarning: Couldn't retrieve source code for container of type ValueNetwork. It won't be checked for correctness upon loading.\n",
            "  \"type \" + obj.__name__ + \". It won't be checked \"\n"
          ],
          "name": "stderr"
        },
        {
          "output_type": "stream",
          "text": [
            "1. Current value loss = 48552.54296875, min value_loss = 48552.54296875, stopping_round = 0\n",
            "2. Current value loss = 56234.0234375, min value_loss = 48552.54296875, stopping_round = 1\n",
            "3. Current value loss = 202354.0, min value_loss = 48552.54296875, stopping_round = 2\n",
            "4. Current value loss = 61100.875, min value_loss = 48552.54296875, stopping_round = 3\n",
            "5. Current value loss = 75082.96875, min value_loss = 48552.54296875, stopping_round = 4\n",
            "6. Current value loss = 352075.78125, min value_loss = 48552.54296875, stopping_round = 5\n",
            "7. Current value loss = 483978.875, min value_loss = 48552.54296875, stopping_round = 6\n",
            "8. Current value loss = 845339.875, min value_loss = 48552.54296875, stopping_round = 7\n",
            "9. Current value loss = 1564431.25, min value_loss = 48552.54296875, stopping_round = 8\n",
            "10. Current value loss = 1602026.125, min value_loss = 48552.54296875, stopping_round = 9\n",
            "11. Current value loss = 2521939.25, min value_loss = 48552.54296875, stopping_round = 10\n",
            "12. Current value loss = 1367674.75, min value_loss = 48552.54296875, stopping_round = 11\n",
            "13. Current value loss = 948808.75, min value_loss = 48552.54296875, stopping_round = 12\n",
            "14. Current value loss = 1413951.625, min value_loss = 48552.54296875, stopping_round = 13\n",
            "15. Current value loss = 495346.96875, min value_loss = 48552.54296875, stopping_round = 14\n",
            "16. Current value loss = 648011.1875, min value_loss = 48552.54296875, stopping_round = 15\n",
            "17. Current value loss = 220353.25, min value_loss = 48552.54296875, stopping_round = 16\n",
            "18. Current value loss = 165791.296875, min value_loss = 48552.54296875, stopping_round = 17\n",
            "19. Current value loss = 265361.40625, min value_loss = 48552.54296875, stopping_round = 18\n",
            "20. Current value loss = 572598.1875, min value_loss = 48552.54296875, stopping_round = 19\n",
            "21. Current value loss = 284150.9375, min value_loss = 48552.54296875, stopping_round = 20\n",
            "22. Current value loss = 286593.625, min value_loss = 48552.54296875, stopping_round = 21\n",
            "23. Current value loss = 286151.90625, min value_loss = 48552.54296875, stopping_round = 22\n",
            "24. Current value loss = 495125.84375, min value_loss = 48552.54296875, stopping_round = 23\n",
            "25. Current value loss = 647365.4375, min value_loss = 48552.54296875, stopping_round = 24\n",
            "26. Current value loss = 803216.625, min value_loss = 48552.54296875, stopping_round = 25\n",
            "27. Current value loss = 1001246.875, min value_loss = 48552.54296875, stopping_round = 26\n",
            "28. Current value loss = 855699.0, min value_loss = 48552.54296875, stopping_round = 27\n",
            "29. Current value loss = 408063.34375, min value_loss = 48552.54296875, stopping_round = 28\n",
            "30. Current value loss = 1091916.0, min value_loss = 48552.54296875, stopping_round = 29\n",
            "31. Current value loss = 2295268.0, min value_loss = 48552.54296875, stopping_round = 30\n",
            "32. Current value loss = 2183807.75, min value_loss = 48552.54296875, stopping_round = 31\n",
            "33. Current value loss = 2411523.5, min value_loss = 48552.54296875, stopping_round = 32\n",
            "34. Current value loss = 3651368.0, min value_loss = 48552.54296875, stopping_round = 33\n",
            "35. Current value loss = 1515942.125, min value_loss = 48552.54296875, stopping_round = 34\n",
            "36. Current value loss = 1156122.875, min value_loss = 48552.54296875, stopping_round = 35\n"
          ],
          "name": "stdout"
        },
        {
          "output_type": "error",
          "ename": "KeyboardInterrupt",
          "evalue": "ignored",
          "traceback": [
            "\u001b[0;31m---------------------------------------------------------------------------\u001b[0m",
            "\u001b[0;31mKeyboardInterrupt\u001b[0m                         Traceback (most recent call last)",
            "\u001b[0;32m<ipython-input-197-d6d5504ec2dc>\u001b[0m in \u001b[0;36m<module>\u001b[0;34m()\u001b[0m\n\u001b[0;32m----> 1\u001b[0;31m \u001b[0mget_ipython\u001b[0m\u001b[0;34m(\u001b[0m\u001b[0;34m)\u001b[0m\u001b[0;34m.\u001b[0m\u001b[0mrun_cell_magic\u001b[0m\u001b[0;34m(\u001b[0m\u001b[0;34m'time'\u001b[0m\u001b[0;34m,\u001b[0m \u001b[0;34m''\u001b[0m\u001b[0;34m,\u001b[0m \u001b[0;34m\"env = gym.make('CartPole-v0')\\npolicy_net = PolicyNetwork(env.observation_space.shape[0], env.action_space.n, 256)\\nvalue_net = ValueNetwork(env.observation_space.shape[0], env.action_space.n, 256)\\nbaseline_approximation(policy_net, value_net, 15, early_stopping_rounds=150)\"\u001b[0m\u001b[0;34m)\u001b[0m\u001b[0;34m\u001b[0m\u001b[0;34m\u001b[0m\u001b[0m\n\u001b[0m",
            "\u001b[0;32m/usr/local/lib/python3.6/dist-packages/IPython/core/interactiveshell.py\u001b[0m in \u001b[0;36mrun_cell_magic\u001b[0;34m(self, magic_name, line, cell)\u001b[0m\n\u001b[1;32m   2115\u001b[0m             \u001b[0mmagic_arg_s\u001b[0m \u001b[0;34m=\u001b[0m \u001b[0mself\u001b[0m\u001b[0;34m.\u001b[0m\u001b[0mvar_expand\u001b[0m\u001b[0;34m(\u001b[0m\u001b[0mline\u001b[0m\u001b[0;34m,\u001b[0m \u001b[0mstack_depth\u001b[0m\u001b[0;34m)\u001b[0m\u001b[0;34m\u001b[0m\u001b[0;34m\u001b[0m\u001b[0m\n\u001b[1;32m   2116\u001b[0m             \u001b[0;32mwith\u001b[0m \u001b[0mself\u001b[0m\u001b[0;34m.\u001b[0m\u001b[0mbuiltin_trap\u001b[0m\u001b[0;34m:\u001b[0m\u001b[0;34m\u001b[0m\u001b[0;34m\u001b[0m\u001b[0m\n\u001b[0;32m-> 2117\u001b[0;31m                 \u001b[0mresult\u001b[0m \u001b[0;34m=\u001b[0m \u001b[0mfn\u001b[0m\u001b[0;34m(\u001b[0m\u001b[0mmagic_arg_s\u001b[0m\u001b[0;34m,\u001b[0m \u001b[0mcell\u001b[0m\u001b[0;34m)\u001b[0m\u001b[0;34m\u001b[0m\u001b[0;34m\u001b[0m\u001b[0m\n\u001b[0m\u001b[1;32m   2118\u001b[0m             \u001b[0;32mreturn\u001b[0m \u001b[0mresult\u001b[0m\u001b[0;34m\u001b[0m\u001b[0;34m\u001b[0m\u001b[0m\n\u001b[1;32m   2119\u001b[0m \u001b[0;34m\u001b[0m\u001b[0m\n",
            "\u001b[0;32m<decorator-gen-60>\u001b[0m in \u001b[0;36mtime\u001b[0;34m(self, line, cell, local_ns)\u001b[0m\n",
            "\u001b[0;32m/usr/local/lib/python3.6/dist-packages/IPython/core/magic.py\u001b[0m in \u001b[0;36m<lambda>\u001b[0;34m(f, *a, **k)\u001b[0m\n\u001b[1;32m    186\u001b[0m     \u001b[0;31m# but it's overkill for just that one bit of state.\u001b[0m\u001b[0;34m\u001b[0m\u001b[0;34m\u001b[0m\u001b[0;34m\u001b[0m\u001b[0m\n\u001b[1;32m    187\u001b[0m     \u001b[0;32mdef\u001b[0m \u001b[0mmagic_deco\u001b[0m\u001b[0;34m(\u001b[0m\u001b[0marg\u001b[0m\u001b[0;34m)\u001b[0m\u001b[0;34m:\u001b[0m\u001b[0;34m\u001b[0m\u001b[0;34m\u001b[0m\u001b[0m\n\u001b[0;32m--> 188\u001b[0;31m         \u001b[0mcall\u001b[0m \u001b[0;34m=\u001b[0m \u001b[0;32mlambda\u001b[0m \u001b[0mf\u001b[0m\u001b[0;34m,\u001b[0m \u001b[0;34m*\u001b[0m\u001b[0ma\u001b[0m\u001b[0;34m,\u001b[0m \u001b[0;34m**\u001b[0m\u001b[0mk\u001b[0m\u001b[0;34m:\u001b[0m \u001b[0mf\u001b[0m\u001b[0;34m(\u001b[0m\u001b[0;34m*\u001b[0m\u001b[0ma\u001b[0m\u001b[0;34m,\u001b[0m \u001b[0;34m**\u001b[0m\u001b[0mk\u001b[0m\u001b[0;34m)\u001b[0m\u001b[0;34m\u001b[0m\u001b[0;34m\u001b[0m\u001b[0m\n\u001b[0m\u001b[1;32m    189\u001b[0m \u001b[0;34m\u001b[0m\u001b[0m\n\u001b[1;32m    190\u001b[0m         \u001b[0;32mif\u001b[0m \u001b[0mcallable\u001b[0m\u001b[0;34m(\u001b[0m\u001b[0marg\u001b[0m\u001b[0;34m)\u001b[0m\u001b[0;34m:\u001b[0m\u001b[0;34m\u001b[0m\u001b[0;34m\u001b[0m\u001b[0m\n",
            "\u001b[0;32m/usr/local/lib/python3.6/dist-packages/IPython/core/magics/execution.py\u001b[0m in \u001b[0;36mtime\u001b[0;34m(self, line, cell, local_ns)\u001b[0m\n\u001b[1;32m   1191\u001b[0m         \u001b[0;32melse\u001b[0m\u001b[0;34m:\u001b[0m\u001b[0;34m\u001b[0m\u001b[0;34m\u001b[0m\u001b[0m\n\u001b[1;32m   1192\u001b[0m             \u001b[0mst\u001b[0m \u001b[0;34m=\u001b[0m \u001b[0mclock2\u001b[0m\u001b[0;34m(\u001b[0m\u001b[0;34m)\u001b[0m\u001b[0;34m\u001b[0m\u001b[0;34m\u001b[0m\u001b[0m\n\u001b[0;32m-> 1193\u001b[0;31m             \u001b[0mexec\u001b[0m\u001b[0;34m(\u001b[0m\u001b[0mcode\u001b[0m\u001b[0;34m,\u001b[0m \u001b[0mglob\u001b[0m\u001b[0;34m,\u001b[0m \u001b[0mlocal_ns\u001b[0m\u001b[0;34m)\u001b[0m\u001b[0;34m\u001b[0m\u001b[0;34m\u001b[0m\u001b[0m\n\u001b[0m\u001b[1;32m   1194\u001b[0m             \u001b[0mend\u001b[0m \u001b[0;34m=\u001b[0m \u001b[0mclock2\u001b[0m\u001b[0;34m(\u001b[0m\u001b[0;34m)\u001b[0m\u001b[0;34m\u001b[0m\u001b[0;34m\u001b[0m\u001b[0m\n\u001b[1;32m   1195\u001b[0m             \u001b[0mout\u001b[0m \u001b[0;34m=\u001b[0m \u001b[0;32mNone\u001b[0m\u001b[0;34m\u001b[0m\u001b[0;34m\u001b[0m\u001b[0m\n",
            "\u001b[0;32m<timed exec>\u001b[0m in \u001b[0;36m<module>\u001b[0;34m()\u001b[0m\n",
            "\u001b[0;32m<ipython-input-191-d98710a69944>\u001b[0m in \u001b[0;36mbaseline_approximation\u001b[0;34m(policy_net, value_net, n_trajectories, n_epoch, early_stopping_rounds)\u001b[0m\n\u001b[1;32m     27\u001b[0m         \u001b[0mbaseline_values\u001b[0m \u001b[0;34m=\u001b[0m \u001b[0malign_columns_zeros\u001b[0m\u001b[0;34m(\u001b[0m\u001b[0mbaseline_values\u001b[0m\u001b[0;34m)\u001b[0m\u001b[0;34m\u001b[0m\u001b[0;34m\u001b[0m\u001b[0m\n\u001b[1;32m     28\u001b[0m         \u001b[0;32mfor\u001b[0m \u001b[0mcol\u001b[0m \u001b[0;32min\u001b[0m \u001b[0mrange\u001b[0m\u001b[0;34m(\u001b[0m\u001b[0mlen\u001b[0m\u001b[0;34m(\u001b[0m\u001b[0mrewards\u001b[0m\u001b[0;34m)\u001b[0m\u001b[0;34m)\u001b[0m\u001b[0;34m:\u001b[0m\u001b[0;34m\u001b[0m\u001b[0;34m\u001b[0m\u001b[0m\n\u001b[0;32m---> 29\u001b[0;31m             \u001b[0mtraj\u001b[0m \u001b[0;34m=\u001b[0m \u001b[0mcount_trajectory_for_baseline\u001b[0m\u001b[0;34m(\u001b[0m\u001b[0mrewards\u001b[0m\u001b[0;34m[\u001b[0m\u001b[0mcol\u001b[0m\u001b[0;34m]\u001b[0m\u001b[0;34m,\u001b[0m \u001b[0mlog_probs\u001b[0m\u001b[0;34m[\u001b[0m\u001b[0mcol\u001b[0m\u001b[0;34m]\u001b[0m\u001b[0;34m,\u001b[0m \u001b[0mbaseline_values\u001b[0m\u001b[0;34m[\u001b[0m\u001b[0mcol\u001b[0m\u001b[0;34m]\u001b[0m\u001b[0;34m)\u001b[0m\u001b[0;34m\u001b[0m\u001b[0;34m\u001b[0m\u001b[0m\n\u001b[0m\u001b[1;32m     30\u001b[0m             \u001b[0mr_gradient\u001b[0m\u001b[0;34m.\u001b[0m\u001b[0mappend\u001b[0m\u001b[0;34m(\u001b[0m\u001b[0mtraj\u001b[0m\u001b[0;34m)\u001b[0m\u001b[0;34m\u001b[0m\u001b[0;34m\u001b[0m\u001b[0m\n\u001b[1;32m     31\u001b[0m \u001b[0;34m\u001b[0m\u001b[0m\n",
            "\u001b[0;32m<ipython-input-196-9989cbe6b6d9>\u001b[0m in \u001b[0;36mcount_trajectory_for_baseline\u001b[0;34m(rewards, log_probs, baseline)\u001b[0m\n\u001b[1;32m     17\u001b[0m     \u001b[0;32mfor\u001b[0m \u001b[0mlog_prob\u001b[0m \u001b[0;32min\u001b[0m \u001b[0mlog_probs\u001b[0m\u001b[0;34m:\u001b[0m\u001b[0;34m\u001b[0m\u001b[0;34m\u001b[0m\u001b[0m\n\u001b[1;32m     18\u001b[0m       \u001b[0;32mif\u001b[0m \u001b[0mlog_prob\u001b[0m \u001b[0;34m!=\u001b[0m \u001b[0;36m0\u001b[0m\u001b[0;34m:\u001b[0m\u001b[0;34m\u001b[0m\u001b[0;34m\u001b[0m\u001b[0m\n\u001b[0;32m---> 19\u001b[0;31m         \u001b[0mlog_prob\u001b[0m\u001b[0;34m.\u001b[0m\u001b[0mbackward\u001b[0m\u001b[0;34m(\u001b[0m\u001b[0;34m)\u001b[0m\u001b[0;34m\u001b[0m\u001b[0;34m\u001b[0m\u001b[0m\n\u001b[0m\u001b[1;32m     20\u001b[0m         \u001b[0mderiv\u001b[0m \u001b[0;34m=\u001b[0m \u001b[0;34m[\u001b[0m\u001b[0;34m]\u001b[0m\u001b[0;34m\u001b[0m\u001b[0;34m\u001b[0m\u001b[0m\n\u001b[1;32m     21\u001b[0m         \u001b[0;32mfor\u001b[0m \u001b[0mparam\u001b[0m \u001b[0;32min\u001b[0m \u001b[0mpolicy_net\u001b[0m\u001b[0;34m.\u001b[0m\u001b[0mparameters\u001b[0m\u001b[0;34m(\u001b[0m\u001b[0;34m)\u001b[0m\u001b[0;34m:\u001b[0m\u001b[0;34m\u001b[0m\u001b[0;34m\u001b[0m\u001b[0m\n",
            "\u001b[0;32m/usr/local/lib/python3.6/dist-packages/torch/tensor.py\u001b[0m in \u001b[0;36mbackward\u001b[0;34m(self, gradient, retain_graph, create_graph)\u001b[0m\n\u001b[1;32m    193\u001b[0m                 \u001b[0mproducts\u001b[0m\u001b[0;34m.\u001b[0m \u001b[0mDefaults\u001b[0m \u001b[0mto\u001b[0m\u001b[0;31m \u001b[0m\u001b[0;31m`\u001b[0m\u001b[0;31m`\u001b[0m\u001b[0;32mFalse\u001b[0m\u001b[0;31m`\u001b[0m\u001b[0;31m`\u001b[0m\u001b[0;34m.\u001b[0m\u001b[0;34m\u001b[0m\u001b[0;34m\u001b[0m\u001b[0m\n\u001b[1;32m    194\u001b[0m         \"\"\"\n\u001b[0;32m--> 195\u001b[0;31m         \u001b[0mtorch\u001b[0m\u001b[0;34m.\u001b[0m\u001b[0mautograd\u001b[0m\u001b[0;34m.\u001b[0m\u001b[0mbackward\u001b[0m\u001b[0;34m(\u001b[0m\u001b[0mself\u001b[0m\u001b[0;34m,\u001b[0m \u001b[0mgradient\u001b[0m\u001b[0;34m,\u001b[0m \u001b[0mretain_graph\u001b[0m\u001b[0;34m,\u001b[0m \u001b[0mcreate_graph\u001b[0m\u001b[0;34m)\u001b[0m\u001b[0;34m\u001b[0m\u001b[0;34m\u001b[0m\u001b[0m\n\u001b[0m\u001b[1;32m    196\u001b[0m \u001b[0;34m\u001b[0m\u001b[0m\n\u001b[1;32m    197\u001b[0m     \u001b[0;32mdef\u001b[0m \u001b[0mregister_hook\u001b[0m\u001b[0;34m(\u001b[0m\u001b[0mself\u001b[0m\u001b[0;34m,\u001b[0m \u001b[0mhook\u001b[0m\u001b[0;34m)\u001b[0m\u001b[0;34m:\u001b[0m\u001b[0;34m\u001b[0m\u001b[0;34m\u001b[0m\u001b[0m\n",
            "\u001b[0;32m/usr/local/lib/python3.6/dist-packages/torch/autograd/__init__.py\u001b[0m in \u001b[0;36mbackward\u001b[0;34m(tensors, grad_tensors, retain_graph, create_graph, grad_variables)\u001b[0m\n\u001b[1;32m     97\u001b[0m     Variable._execution_engine.run_backward(\n\u001b[1;32m     98\u001b[0m         \u001b[0mtensors\u001b[0m\u001b[0;34m,\u001b[0m \u001b[0mgrad_tensors\u001b[0m\u001b[0;34m,\u001b[0m \u001b[0mretain_graph\u001b[0m\u001b[0;34m,\u001b[0m \u001b[0mcreate_graph\u001b[0m\u001b[0;34m,\u001b[0m\u001b[0;34m\u001b[0m\u001b[0;34m\u001b[0m\u001b[0m\n\u001b[0;32m---> 99\u001b[0;31m         allow_unreachable=True)  # allow_unreachable flag\n\u001b[0m\u001b[1;32m    100\u001b[0m \u001b[0;34m\u001b[0m\u001b[0m\n\u001b[1;32m    101\u001b[0m \u001b[0;34m\u001b[0m\u001b[0m\n",
            "\u001b[0;31mKeyboardInterrupt\u001b[0m: "
          ]
        }
      ]
    },
    {
      "cell_type": "code",
      "metadata": {
        "id": "0cCpwMpFFN3P",
        "colab_type": "code",
        "colab": {
          "base_uri": "https://localhost:8080/",
          "height": 1000
        },
        "outputId": "6c9b3fd3-cfff-4b75-99ad-24a46278c85e"
      },
      "source": [
        "%%time\n",
        "statistics_all = []\n",
        "statistics_mean = []\n",
        "for game in tqdm(range(10)):\n",
        "  all_rewards, mean_rewards = cart_pole_baseline(value_net, 1, 1500)\n",
        "  statistics_all.append(all_rewards)\n",
        "  statistics_mean.append(mean_rewards)"
      ],
      "execution_count": 194,
      "outputs": [
        {
          "output_type": "stream",
          "text": [
            "\r  0%|          | 0/10 [00:00<?, ?it/s]"
          ],
          "name": "stderr"
        },
        {
          "output_type": "stream",
          "text": [
            "episode: 10, total mean reward among trajectories: 16.0, average_reward_among_trajectories: 22.2\n",
            "episode: 20, total mean reward among trajectories: 31.0, average_reward_among_trajectories: 25.8\n",
            "episode: 30, total mean reward among trajectories: 25.0, average_reward_among_trajectories: 26.6\n",
            "episode: 40, total mean reward among trajectories: 68.0, average_reward_among_trajectories: 33.4\n",
            "episode: 50, total mean reward among trajectories: 45.0, average_reward_among_trajectories: 33.2\n",
            "episode: 60, total mean reward among trajectories: 30.0, average_reward_among_trajectories: 29.4\n",
            "episode: 70, total mean reward among trajectories: 28.0, average_reward_among_trajectories: 21.9\n",
            "episode: 80, total mean reward among trajectories: 44.0, average_reward_among_trajectories: 29.8\n",
            "episode: 90, total mean reward among trajectories: 35.0, average_reward_among_trajectories: 40.6\n",
            "episode: 100, total mean reward among trajectories: 16.0, average_reward_among_trajectories: 23.1\n",
            "episode: 110, total mean reward among trajectories: 47.0, average_reward_among_trajectories: 37.3\n",
            "episode: 120, total mean reward among trajectories: 27.0, average_reward_among_trajectories: 22.6\n",
            "episode: 130, total mean reward among trajectories: 77.0, average_reward_among_trajectories: 31.4\n",
            "episode: 140, total mean reward among trajectories: 28.0, average_reward_among_trajectories: 27.4\n",
            "episode: 150, total mean reward among trajectories: 20.0, average_reward_among_trajectories: 30.9\n",
            "episode: 160, total mean reward among trajectories: 21.0, average_reward_among_trajectories: 21.9\n",
            "episode: 170, total mean reward among trajectories: 21.0, average_reward_among_trajectories: 28.6\n",
            "episode: 180, total mean reward among trajectories: 22.0, average_reward_among_trajectories: 25.3\n",
            "episode: 190, total mean reward among trajectories: 23.0, average_reward_among_trajectories: 24.6\n",
            "episode: 200, total mean reward among trajectories: 22.0, average_reward_among_trajectories: 27.2\n",
            "episode: 210, total mean reward among trajectories: 44.0, average_reward_among_trajectories: 20.5\n",
            "episode: 220, total mean reward among trajectories: 31.0, average_reward_among_trajectories: 30.7\n",
            "episode: 230, total mean reward among trajectories: 27.0, average_reward_among_trajectories: 28.7\n",
            "episode: 240, total mean reward among trajectories: 11.0, average_reward_among_trajectories: 25.1\n",
            "episode: 250, total mean reward among trajectories: 22.0, average_reward_among_trajectories: 24.4\n",
            "episode: 260, total mean reward among trajectories: 79.0, average_reward_among_trajectories: 31.6\n",
            "episode: 270, total mean reward among trajectories: 35.0, average_reward_among_trajectories: 19.0\n",
            "episode: 280, total mean reward among trajectories: 40.0, average_reward_among_trajectories: 32.0\n",
            "episode: 290, total mean reward among trajectories: 17.0, average_reward_among_trajectories: 31.4\n",
            "episode: 300, total mean reward among trajectories: 15.0, average_reward_among_trajectories: 30.0\n",
            "episode: 310, total mean reward among trajectories: 19.0, average_reward_among_trajectories: 25.3\n",
            "episode: 320, total mean reward among trajectories: 32.0, average_reward_among_trajectories: 29.5\n",
            "episode: 330, total mean reward among trajectories: 28.0, average_reward_among_trajectories: 37.4\n",
            "episode: 340, total mean reward among trajectories: 18.0, average_reward_among_trajectories: 25.7\n",
            "episode: 350, total mean reward among trajectories: 14.0, average_reward_among_trajectories: 20.7\n",
            "episode: 360, total mean reward among trajectories: 35.0, average_reward_among_trajectories: 21.9\n",
            "episode: 370, total mean reward among trajectories: 13.0, average_reward_among_trajectories: 22.3\n",
            "episode: 380, total mean reward among trajectories: 25.0, average_reward_among_trajectories: 26.6\n",
            "episode: 390, total mean reward among trajectories: 36.0, average_reward_among_trajectories: 39.6\n",
            "episode: 400, total mean reward among trajectories: 26.0, average_reward_among_trajectories: 25.8\n",
            "episode: 410, total mean reward among trajectories: 15.0, average_reward_among_trajectories: 37.5\n",
            "episode: 420, total mean reward among trajectories: 47.0, average_reward_among_trajectories: 24.8\n",
            "episode: 430, total mean reward among trajectories: 16.0, average_reward_among_trajectories: 28.4\n",
            "episode: 440, total mean reward among trajectories: 15.0, average_reward_among_trajectories: 23.5\n",
            "episode: 450, total mean reward among trajectories: 29.0, average_reward_among_trajectories: 29.9\n",
            "episode: 460, total mean reward among trajectories: 21.0, average_reward_among_trajectories: 24.6\n",
            "episode: 470, total mean reward among trajectories: 46.0, average_reward_among_trajectories: 33.7\n",
            "episode: 480, total mean reward among trajectories: 92.0, average_reward_among_trajectories: 42.0\n",
            "episode: 490, total mean reward among trajectories: 22.0, average_reward_among_trajectories: 30.5\n",
            "episode: 500, total mean reward among trajectories: 33.0, average_reward_among_trajectories: 33.8\n",
            "episode: 510, total mean reward among trajectories: 23.0, average_reward_among_trajectories: 29.8\n",
            "episode: 520, total mean reward among trajectories: 42.0, average_reward_among_trajectories: 33.5\n",
            "episode: 530, total mean reward among trajectories: 48.0, average_reward_among_trajectories: 34.7\n",
            "episode: 540, total mean reward among trajectories: 65.0, average_reward_among_trajectories: 46.8\n",
            "episode: 550, total mean reward among trajectories: 54.0, average_reward_among_trajectories: 38.1\n",
            "episode: 560, total mean reward among trajectories: 20.0, average_reward_among_trajectories: 42.4\n",
            "episode: 570, total mean reward among trajectories: 68.0, average_reward_among_trajectories: 41.0\n",
            "episode: 580, total mean reward among trajectories: 16.0, average_reward_among_trajectories: 27.9\n",
            "episode: 590, total mean reward among trajectories: 34.0, average_reward_among_trajectories: 28.5\n",
            "episode: 600, total mean reward among trajectories: 10.0, average_reward_among_trajectories: 21.3\n",
            "episode: 610, total mean reward among trajectories: 28.0, average_reward_among_trajectories: 44.3\n",
            "episode: 620, total mean reward among trajectories: 42.0, average_reward_among_trajectories: 34.3\n",
            "episode: 630, total mean reward among trajectories: 17.0, average_reward_among_trajectories: 39.5\n",
            "episode: 640, total mean reward among trajectories: 23.0, average_reward_among_trajectories: 28.9\n",
            "episode: 650, total mean reward among trajectories: 25.0, average_reward_among_trajectories: 36.9\n",
            "episode: 660, total mean reward among trajectories: 15.0, average_reward_among_trajectories: 41.2\n",
            "episode: 670, total mean reward among trajectories: 12.0, average_reward_among_trajectories: 30.7\n",
            "episode: 680, total mean reward among trajectories: 68.0, average_reward_among_trajectories: 38.4\n",
            "episode: 690, total mean reward among trajectories: 50.0, average_reward_among_trajectories: 39.3\n",
            "episode: 700, total mean reward among trajectories: 28.0, average_reward_among_trajectories: 28.1\n",
            "episode: 710, total mean reward among trajectories: 75.0, average_reward_among_trajectories: 43.3\n",
            "episode: 720, total mean reward among trajectories: 13.0, average_reward_among_trajectories: 44.1\n",
            "episode: 730, total mean reward among trajectories: 76.0, average_reward_among_trajectories: 35.5\n",
            "episode: 740, total mean reward among trajectories: 59.0, average_reward_among_trajectories: 40.2\n",
            "episode: 750, total mean reward among trajectories: 39.0, average_reward_among_trajectories: 57.6\n",
            "episode: 760, total mean reward among trajectories: 38.0, average_reward_among_trajectories: 46.2\n",
            "episode: 770, total mean reward among trajectories: 27.0, average_reward_among_trajectories: 42.8\n",
            "episode: 780, total mean reward among trajectories: 22.0, average_reward_among_trajectories: 28.3\n",
            "episode: 790, total mean reward among trajectories: 67.0, average_reward_among_trajectories: 36.0\n",
            "episode: 800, total mean reward among trajectories: 19.0, average_reward_among_trajectories: 44.2\n",
            "episode: 810, total mean reward among trajectories: 39.0, average_reward_among_trajectories: 46.0\n",
            "episode: 820, total mean reward among trajectories: 38.0, average_reward_among_trajectories: 42.0\n",
            "episode: 830, total mean reward among trajectories: 56.0, average_reward_among_trajectories: 34.7\n",
            "episode: 840, total mean reward among trajectories: 48.0, average_reward_among_trajectories: 37.4\n",
            "episode: 850, total mean reward among trajectories: 15.0, average_reward_among_trajectories: 52.4\n",
            "episode: 860, total mean reward among trajectories: 49.0, average_reward_among_trajectories: 40.3\n",
            "episode: 870, total mean reward among trajectories: 20.0, average_reward_among_trajectories: 31.3\n",
            "episode: 880, total mean reward among trajectories: 18.0, average_reward_among_trajectories: 38.3\n",
            "episode: 890, total mean reward among trajectories: 26.0, average_reward_among_trajectories: 42.7\n",
            "episode: 900, total mean reward among trajectories: 79.0, average_reward_among_trajectories: 31.4\n",
            "episode: 910, total mean reward among trajectories: 69.0, average_reward_among_trajectories: 40.5\n",
            "episode: 920, total mean reward among trajectories: 63.0, average_reward_among_trajectories: 37.1\n",
            "episode: 930, total mean reward among trajectories: 29.0, average_reward_among_trajectories: 24.5\n",
            "episode: 940, total mean reward among trajectories: 23.0, average_reward_among_trajectories: 42.8\n",
            "episode: 950, total mean reward among trajectories: 48.0, average_reward_among_trajectories: 34.9\n",
            "episode: 960, total mean reward among trajectories: 62.0, average_reward_among_trajectories: 28.8\n",
            "episode: 970, total mean reward among trajectories: 30.0, average_reward_among_trajectories: 33.3\n",
            "episode: 980, total mean reward among trajectories: 17.0, average_reward_among_trajectories: 26.3\n",
            "episode: 990, total mean reward among trajectories: 32.0, average_reward_among_trajectories: 43.5\n",
            "episode: 1000, total mean reward among trajectories: 11.0, average_reward_among_trajectories: 35.8\n",
            "episode: 1010, total mean reward among trajectories: 16.0, average_reward_among_trajectories: 32.4\n",
            "episode: 1020, total mean reward among trajectories: 22.0, average_reward_among_trajectories: 33.1\n",
            "episode: 1030, total mean reward among trajectories: 40.0, average_reward_among_trajectories: 43.0\n",
            "episode: 1040, total mean reward among trajectories: 19.0, average_reward_among_trajectories: 41.3\n",
            "episode: 1050, total mean reward among trajectories: 28.0, average_reward_among_trajectories: 31.2\n",
            "episode: 1060, total mean reward among trajectories: 20.0, average_reward_among_trajectories: 36.4\n",
            "episode: 1070, total mean reward among trajectories: 18.0, average_reward_among_trajectories: 33.4\n",
            "episode: 1080, total mean reward among trajectories: 9.0, average_reward_among_trajectories: 26.4\n",
            "episode: 1090, total mean reward among trajectories: 24.0, average_reward_among_trajectories: 29.4\n",
            "episode: 1100, total mean reward among trajectories: 23.0, average_reward_among_trajectories: 36.0\n",
            "episode: 1110, total mean reward among trajectories: 17.0, average_reward_among_trajectories: 29.5\n",
            "episode: 1120, total mean reward among trajectories: 25.0, average_reward_among_trajectories: 29.9\n",
            "episode: 1130, total mean reward among trajectories: 28.0, average_reward_among_trajectories: 23.3\n",
            "episode: 1140, total mean reward among trajectories: 18.0, average_reward_among_trajectories: 22.3\n",
            "episode: 1150, total mean reward among trajectories: 39.0, average_reward_among_trajectories: 28.7\n",
            "episode: 1160, total mean reward among trajectories: 18.0, average_reward_among_trajectories: 27.0\n",
            "episode: 1170, total mean reward among trajectories: 101.0, average_reward_among_trajectories: 45.8\n",
            "episode: 1180, total mean reward among trajectories: 18.0, average_reward_among_trajectories: 32.3\n",
            "episode: 1190, total mean reward among trajectories: 32.0, average_reward_among_trajectories: 23.9\n",
            "episode: 1200, total mean reward among trajectories: 22.0, average_reward_among_trajectories: 23.7\n",
            "episode: 1210, total mean reward among trajectories: 44.0, average_reward_among_trajectories: 35.3\n",
            "episode: 1220, total mean reward among trajectories: 19.0, average_reward_among_trajectories: 29.5\n",
            "episode: 1230, total mean reward among trajectories: 14.0, average_reward_among_trajectories: 22.1\n",
            "episode: 1240, total mean reward among trajectories: 26.0, average_reward_among_trajectories: 25.9\n",
            "episode: 1250, total mean reward among trajectories: 41.0, average_reward_among_trajectories: 21.1\n",
            "episode: 1260, total mean reward among trajectories: 31.0, average_reward_among_trajectories: 24.3\n",
            "episode: 1270, total mean reward among trajectories: 20.0, average_reward_among_trajectories: 19.4\n",
            "episode: 1280, total mean reward among trajectories: 31.0, average_reward_among_trajectories: 22.3\n",
            "episode: 1290, total mean reward among trajectories: 17.0, average_reward_among_trajectories: 29.6\n",
            "episode: 1300, total mean reward among trajectories: 27.0, average_reward_among_trajectories: 18.4\n",
            "episode: 1310, total mean reward among trajectories: 34.0, average_reward_among_trajectories: 25.3\n",
            "episode: 1320, total mean reward among trajectories: 14.0, average_reward_among_trajectories: 20.1\n",
            "episode: 1330, total mean reward among trajectories: 59.0, average_reward_among_trajectories: 28.6\n",
            "episode: 1340, total mean reward among trajectories: 20.0, average_reward_among_trajectories: 23.9\n",
            "episode: 1350, total mean reward among trajectories: 43.0, average_reward_among_trajectories: 30.3\n",
            "episode: 1360, total mean reward among trajectories: 9.0, average_reward_among_trajectories: 26.8\n",
            "episode: 1370, total mean reward among trajectories: 27.0, average_reward_among_trajectories: 32.3\n",
            "episode: 1380, total mean reward among trajectories: 32.0, average_reward_among_trajectories: 21.1\n",
            "episode: 1390, total mean reward among trajectories: 29.0, average_reward_among_trajectories: 25.0\n",
            "episode: 1400, total mean reward among trajectories: 12.0, average_reward_among_trajectories: 25.9\n",
            "episode: 1410, total mean reward among trajectories: 20.0, average_reward_among_trajectories: 34.0\n",
            "episode: 1420, total mean reward among trajectories: 28.0, average_reward_among_trajectories: 25.4\n",
            "episode: 1430, total mean reward among trajectories: 37.0, average_reward_among_trajectories: 29.7\n",
            "episode: 1440, total mean reward among trajectories: 17.0, average_reward_among_trajectories: 26.3\n",
            "episode: 1450, total mean reward among trajectories: 35.0, average_reward_among_trajectories: 25.8\n",
            "episode: 1460, total mean reward among trajectories: 24.0, average_reward_among_trajectories: 21.5\n",
            "episode: 1470, total mean reward among trajectories: 25.0, average_reward_among_trajectories: 23.8\n",
            "episode: 1480, total mean reward among trajectories: 23.0, average_reward_among_trajectories: 24.1\n"
          ],
          "name": "stdout"
        },
        {
          "output_type": "stream",
          "text": [
            "\r 10%|█         | 1/10 [00:34<05:10, 34.50s/it]"
          ],
          "name": "stderr"
        },
        {
          "output_type": "stream",
          "text": [
            "episode: 1490, total mean reward among trajectories: 12.0, average_reward_among_trajectories: 25.5\n",
            "episode: 1500, total mean reward among trajectories: 20.0, average_reward_among_trajectories: 22.4\n",
            "episode: 10, total mean reward among trajectories: 13.0, average_reward_among_trajectories: 28.4\n",
            "episode: 20, total mean reward among trajectories: 40.0, average_reward_among_trajectories: 21.6\n",
            "episode: 30, total mean reward among trajectories: 36.0, average_reward_among_trajectories: 23.2\n",
            "episode: 40, total mean reward among trajectories: 21.0, average_reward_among_trajectories: 19.1\n",
            "episode: 50, total mean reward among trajectories: 12.0, average_reward_among_trajectories: 16.6\n",
            "episode: 60, total mean reward among trajectories: 15.0, average_reward_among_trajectories: 19.0\n",
            "episode: 70, total mean reward among trajectories: 10.0, average_reward_among_trajectories: 21.1\n",
            "episode: 80, total mean reward among trajectories: 23.0, average_reward_among_trajectories: 19.5\n",
            "episode: 90, total mean reward among trajectories: 9.0, average_reward_among_trajectories: 20.7\n",
            "episode: 100, total mean reward among trajectories: 34.0, average_reward_among_trajectories: 26.4\n",
            "episode: 110, total mean reward among trajectories: 27.0, average_reward_among_trajectories: 24.3\n",
            "episode: 120, total mean reward among trajectories: 17.0, average_reward_among_trajectories: 28.8\n",
            "episode: 130, total mean reward among trajectories: 21.0, average_reward_among_trajectories: 17.3\n",
            "episode: 140, total mean reward among trajectories: 13.0, average_reward_among_trajectories: 15.7\n",
            "episode: 150, total mean reward among trajectories: 27.0, average_reward_among_trajectories: 19.8\n",
            "episode: 160, total mean reward among trajectories: 18.0, average_reward_among_trajectories: 18.9\n",
            "episode: 170, total mean reward among trajectories: 49.0, average_reward_among_trajectories: 26.2\n",
            "episode: 180, total mean reward among trajectories: 12.0, average_reward_among_trajectories: 18.3\n",
            "episode: 190, total mean reward among trajectories: 17.0, average_reward_among_trajectories: 19.8\n",
            "episode: 200, total mean reward among trajectories: 16.0, average_reward_among_trajectories: 18.3\n",
            "episode: 210, total mean reward among trajectories: 11.0, average_reward_among_trajectories: 19.4\n",
            "episode: 220, total mean reward among trajectories: 16.0, average_reward_among_trajectories: 17.3\n",
            "episode: 230, total mean reward among trajectories: 20.0, average_reward_among_trajectories: 26.0\n",
            "episode: 240, total mean reward among trajectories: 22.0, average_reward_among_trajectories: 23.7\n",
            "episode: 250, total mean reward among trajectories: 9.0, average_reward_among_trajectories: 20.7\n",
            "episode: 260, total mean reward among trajectories: 24.0, average_reward_among_trajectories: 20.4\n",
            "episode: 270, total mean reward among trajectories: 31.0, average_reward_among_trajectories: 18.9\n",
            "episode: 280, total mean reward among trajectories: 18.0, average_reward_among_trajectories: 19.1\n",
            "episode: 290, total mean reward among trajectories: 20.0, average_reward_among_trajectories: 16.6\n",
            "episode: 300, total mean reward among trajectories: 14.0, average_reward_among_trajectories: 19.2\n",
            "episode: 310, total mean reward among trajectories: 12.0, average_reward_among_trajectories: 22.2\n",
            "episode: 320, total mean reward among trajectories: 13.0, average_reward_among_trajectories: 21.8\n",
            "episode: 330, total mean reward among trajectories: 17.0, average_reward_among_trajectories: 18.5\n",
            "episode: 340, total mean reward among trajectories: 19.0, average_reward_among_trajectories: 17.2\n",
            "episode: 350, total mean reward among trajectories: 15.0, average_reward_among_trajectories: 15.4\n",
            "episode: 360, total mean reward among trajectories: 9.0, average_reward_among_trajectories: 17.4\n",
            "episode: 370, total mean reward among trajectories: 15.0, average_reward_among_trajectories: 18.6\n",
            "episode: 380, total mean reward among trajectories: 23.0, average_reward_among_trajectories: 19.1\n",
            "episode: 390, total mean reward among trajectories: 28.0, average_reward_among_trajectories: 17.5\n",
            "episode: 400, total mean reward among trajectories: 17.0, average_reward_among_trajectories: 20.6\n",
            "episode: 410, total mean reward among trajectories: 12.0, average_reward_among_trajectories: 22.0\n",
            "episode: 420, total mean reward among trajectories: 13.0, average_reward_among_trajectories: 21.2\n",
            "episode: 430, total mean reward among trajectories: 24.0, average_reward_among_trajectories: 24.3\n",
            "episode: 440, total mean reward among trajectories: 19.0, average_reward_among_trajectories: 22.2\n",
            "episode: 450, total mean reward among trajectories: 17.0, average_reward_among_trajectories: 21.6\n",
            "episode: 460, total mean reward among trajectories: 20.0, average_reward_among_trajectories: 21.6\n",
            "episode: 470, total mean reward among trajectories: 18.0, average_reward_among_trajectories: 18.8\n",
            "episode: 480, total mean reward among trajectories: 31.0, average_reward_among_trajectories: 25.1\n",
            "episode: 490, total mean reward among trajectories: 20.0, average_reward_among_trajectories: 20.3\n",
            "episode: 500, total mean reward among trajectories: 19.0, average_reward_among_trajectories: 19.2\n",
            "episode: 510, total mean reward among trajectories: 15.0, average_reward_among_trajectories: 21.1\n"
          ],
          "name": "stdout"
        },
        {
          "output_type": "error",
          "ename": "KeyboardInterrupt",
          "evalue": "ignored",
          "traceback": [
            "\u001b[0;31m---------------------------------------------------------------------------\u001b[0m",
            "\u001b[0;31mKeyboardInterrupt\u001b[0m                         Traceback (most recent call last)",
            "\u001b[0;32m<ipython-input-194-8314cb01a94c>\u001b[0m in \u001b[0;36m<module>\u001b[0;34m()\u001b[0m\n\u001b[0;32m----> 1\u001b[0;31m \u001b[0mget_ipython\u001b[0m\u001b[0;34m(\u001b[0m\u001b[0;34m)\u001b[0m\u001b[0;34m.\u001b[0m\u001b[0mrun_cell_magic\u001b[0m\u001b[0;34m(\u001b[0m\u001b[0;34m'time'\u001b[0m\u001b[0;34m,\u001b[0m \u001b[0;34m''\u001b[0m\u001b[0;34m,\u001b[0m \u001b[0;34m'statistics_all = []\\nstatistics_mean = []\\nfor game in tqdm(range(10)):\\n  all_rewards, mean_rewards = cart_pole_baseline(value_net, 1, 1500)\\n  statistics_all.append(all_rewards)\\n  statistics_mean.append(mean_rewards)'\u001b[0m\u001b[0;34m)\u001b[0m\u001b[0;34m\u001b[0m\u001b[0;34m\u001b[0m\u001b[0m\n\u001b[0m",
            "\u001b[0;32m/usr/local/lib/python3.6/dist-packages/IPython/core/interactiveshell.py\u001b[0m in \u001b[0;36mrun_cell_magic\u001b[0;34m(self, magic_name, line, cell)\u001b[0m\n\u001b[1;32m   2115\u001b[0m             \u001b[0mmagic_arg_s\u001b[0m \u001b[0;34m=\u001b[0m \u001b[0mself\u001b[0m\u001b[0;34m.\u001b[0m\u001b[0mvar_expand\u001b[0m\u001b[0;34m(\u001b[0m\u001b[0mline\u001b[0m\u001b[0;34m,\u001b[0m \u001b[0mstack_depth\u001b[0m\u001b[0;34m)\u001b[0m\u001b[0;34m\u001b[0m\u001b[0;34m\u001b[0m\u001b[0m\n\u001b[1;32m   2116\u001b[0m             \u001b[0;32mwith\u001b[0m \u001b[0mself\u001b[0m\u001b[0;34m.\u001b[0m\u001b[0mbuiltin_trap\u001b[0m\u001b[0;34m:\u001b[0m\u001b[0;34m\u001b[0m\u001b[0;34m\u001b[0m\u001b[0m\n\u001b[0;32m-> 2117\u001b[0;31m                 \u001b[0mresult\u001b[0m \u001b[0;34m=\u001b[0m \u001b[0mfn\u001b[0m\u001b[0;34m(\u001b[0m\u001b[0mmagic_arg_s\u001b[0m\u001b[0;34m,\u001b[0m \u001b[0mcell\u001b[0m\u001b[0;34m)\u001b[0m\u001b[0;34m\u001b[0m\u001b[0;34m\u001b[0m\u001b[0m\n\u001b[0m\u001b[1;32m   2118\u001b[0m             \u001b[0;32mreturn\u001b[0m \u001b[0mresult\u001b[0m\u001b[0;34m\u001b[0m\u001b[0;34m\u001b[0m\u001b[0m\n\u001b[1;32m   2119\u001b[0m \u001b[0;34m\u001b[0m\u001b[0m\n",
            "\u001b[0;32m<decorator-gen-60>\u001b[0m in \u001b[0;36mtime\u001b[0;34m(self, line, cell, local_ns)\u001b[0m\n",
            "\u001b[0;32m/usr/local/lib/python3.6/dist-packages/IPython/core/magic.py\u001b[0m in \u001b[0;36m<lambda>\u001b[0;34m(f, *a, **k)\u001b[0m\n\u001b[1;32m    186\u001b[0m     \u001b[0;31m# but it's overkill for just that one bit of state.\u001b[0m\u001b[0;34m\u001b[0m\u001b[0;34m\u001b[0m\u001b[0;34m\u001b[0m\u001b[0m\n\u001b[1;32m    187\u001b[0m     \u001b[0;32mdef\u001b[0m \u001b[0mmagic_deco\u001b[0m\u001b[0;34m(\u001b[0m\u001b[0marg\u001b[0m\u001b[0;34m)\u001b[0m\u001b[0;34m:\u001b[0m\u001b[0;34m\u001b[0m\u001b[0;34m\u001b[0m\u001b[0m\n\u001b[0;32m--> 188\u001b[0;31m         \u001b[0mcall\u001b[0m \u001b[0;34m=\u001b[0m \u001b[0;32mlambda\u001b[0m \u001b[0mf\u001b[0m\u001b[0;34m,\u001b[0m \u001b[0;34m*\u001b[0m\u001b[0ma\u001b[0m\u001b[0;34m,\u001b[0m \u001b[0;34m**\u001b[0m\u001b[0mk\u001b[0m\u001b[0;34m:\u001b[0m \u001b[0mf\u001b[0m\u001b[0;34m(\u001b[0m\u001b[0;34m*\u001b[0m\u001b[0ma\u001b[0m\u001b[0;34m,\u001b[0m \u001b[0;34m**\u001b[0m\u001b[0mk\u001b[0m\u001b[0;34m)\u001b[0m\u001b[0;34m\u001b[0m\u001b[0;34m\u001b[0m\u001b[0m\n\u001b[0m\u001b[1;32m    189\u001b[0m \u001b[0;34m\u001b[0m\u001b[0m\n\u001b[1;32m    190\u001b[0m         \u001b[0;32mif\u001b[0m \u001b[0mcallable\u001b[0m\u001b[0;34m(\u001b[0m\u001b[0marg\u001b[0m\u001b[0;34m)\u001b[0m\u001b[0;34m:\u001b[0m\u001b[0;34m\u001b[0m\u001b[0;34m\u001b[0m\u001b[0m\n",
            "\u001b[0;32m/usr/local/lib/python3.6/dist-packages/IPython/core/magics/execution.py\u001b[0m in \u001b[0;36mtime\u001b[0;34m(self, line, cell, local_ns)\u001b[0m\n\u001b[1;32m   1191\u001b[0m         \u001b[0;32melse\u001b[0m\u001b[0;34m:\u001b[0m\u001b[0;34m\u001b[0m\u001b[0;34m\u001b[0m\u001b[0m\n\u001b[1;32m   1192\u001b[0m             \u001b[0mst\u001b[0m \u001b[0;34m=\u001b[0m \u001b[0mclock2\u001b[0m\u001b[0;34m(\u001b[0m\u001b[0;34m)\u001b[0m\u001b[0;34m\u001b[0m\u001b[0;34m\u001b[0m\u001b[0m\n\u001b[0;32m-> 1193\u001b[0;31m             \u001b[0mexec\u001b[0m\u001b[0;34m(\u001b[0m\u001b[0mcode\u001b[0m\u001b[0;34m,\u001b[0m \u001b[0mglob\u001b[0m\u001b[0;34m,\u001b[0m \u001b[0mlocal_ns\u001b[0m\u001b[0;34m)\u001b[0m\u001b[0;34m\u001b[0m\u001b[0;34m\u001b[0m\u001b[0m\n\u001b[0m\u001b[1;32m   1194\u001b[0m             \u001b[0mend\u001b[0m \u001b[0;34m=\u001b[0m \u001b[0mclock2\u001b[0m\u001b[0;34m(\u001b[0m\u001b[0;34m)\u001b[0m\u001b[0;34m\u001b[0m\u001b[0;34m\u001b[0m\u001b[0m\n\u001b[1;32m   1195\u001b[0m             \u001b[0mout\u001b[0m \u001b[0;34m=\u001b[0m \u001b[0;32mNone\u001b[0m\u001b[0;34m\u001b[0m\u001b[0;34m\u001b[0m\u001b[0m\n",
            "\u001b[0;32m<timed exec>\u001b[0m in \u001b[0;36m<module>\u001b[0;34m()\u001b[0m\n",
            "\u001b[0;32m<ipython-input-73-b22b84ef37d7>\u001b[0m in \u001b[0;36mcart_pole_baseline\u001b[0;34m(value_net, n_trajectories, episode_num, baseline_retrain, retrain_episodes)\u001b[0m\n\u001b[1;32m     29\u001b[0m \u001b[0;34m\u001b[0m\u001b[0m\n\u001b[1;32m     30\u001b[0m                 \u001b[0;32mif\u001b[0m \u001b[0mdone\u001b[0m\u001b[0;34m:\u001b[0m\u001b[0;34m\u001b[0m\u001b[0;34m\u001b[0m\u001b[0m\n\u001b[0;32m---> 31\u001b[0;31m                     \u001b[0mtraj\u001b[0m \u001b[0;34m=\u001b[0m \u001b[0mcount_trajectory_for_policy\u001b[0m\u001b[0;34m(\u001b[0m\u001b[0mrewards\u001b[0m\u001b[0;34m[\u001b[0m\u001b[0mtrajectory\u001b[0m\u001b[0;34m]\u001b[0m\u001b[0;34m,\u001b[0m \u001b[0mlog_probs\u001b[0m\u001b[0;34m,\u001b[0m \u001b[0mbaseline_values\u001b[0m\u001b[0;34m)\u001b[0m\u001b[0;34m\u001b[0m\u001b[0;34m\u001b[0m\u001b[0m\n\u001b[0m\u001b[1;32m     32\u001b[0m                     \u001b[0mr_gradient\u001b[0m\u001b[0;34m.\u001b[0m\u001b[0mappend\u001b[0m\u001b[0;34m(\u001b[0m\u001b[0mtraj\u001b[0m\u001b[0;34m)\u001b[0m\u001b[0;34m\u001b[0m\u001b[0;34m\u001b[0m\u001b[0m\n\u001b[1;32m     33\u001b[0m                     \u001b[0mnumsteps\u001b[0m\u001b[0;34m[\u001b[0m\u001b[0mtrajectory\u001b[0m\u001b[0;34m]\u001b[0m\u001b[0;34m.\u001b[0m\u001b[0mappend\u001b[0m\u001b[0;34m(\u001b[0m\u001b[0msteps\u001b[0m\u001b[0;34m)\u001b[0m\u001b[0;34m\u001b[0m\u001b[0;34m\u001b[0m\u001b[0m\n",
            "\u001b[0;32m<ipython-input-167-50f8bd785e90>\u001b[0m in \u001b[0;36mcount_trajectory_for_policy\u001b[0;34m(rewards, log_probs, baseline)\u001b[0m\n\u001b[1;32m     14\u001b[0m \u001b[0;34m\u001b[0m\u001b[0m\n\u001b[1;32m     15\u001b[0m     \u001b[0mpolicy_gradient\u001b[0m \u001b[0;34m=\u001b[0m \u001b[0;34m[\u001b[0m\u001b[0;34m]\u001b[0m\u001b[0;34m\u001b[0m\u001b[0;34m\u001b[0m\u001b[0m\n\u001b[0;32m---> 16\u001b[0;31m     \u001b[0;32mfor\u001b[0m \u001b[0mlog_prob\u001b[0m\u001b[0;34m,\u001b[0m \u001b[0mGt\u001b[0m\u001b[0;34m,\u001b[0m \u001b[0mbs\u001b[0m \u001b[0;32min\u001b[0m \u001b[0mzip\u001b[0m\u001b[0;34m(\u001b[0m\u001b[0mlog_probs\u001b[0m\u001b[0;34m,\u001b[0m \u001b[0mdiscounted_rewards\u001b[0m\u001b[0;34m,\u001b[0m \u001b[0mbaseline\u001b[0m\u001b[0;34m)\u001b[0m\u001b[0;34m:\u001b[0m\u001b[0;34m\u001b[0m\u001b[0;34m\u001b[0m\u001b[0m\n\u001b[0m\u001b[1;32m     17\u001b[0m         \u001b[0;32mif\u001b[0m \u001b[0mlog_prob\u001b[0m \u001b[0;34m==\u001b[0m \u001b[0;36m0\u001b[0m\u001b[0;34m:\u001b[0m\u001b[0;34m\u001b[0m\u001b[0;34m\u001b[0m\u001b[0m\n\u001b[1;32m     18\u001b[0m             \u001b[0mpolicy_gradient\u001b[0m\u001b[0;34m.\u001b[0m\u001b[0mappend\u001b[0m\u001b[0;34m(\u001b[0m\u001b[0mtorch\u001b[0m\u001b[0;34m.\u001b[0m\u001b[0mtensor\u001b[0m\u001b[0;34m(\u001b[0m\u001b[0;34m[\u001b[0m\u001b[0;34m[\u001b[0m\u001b[0;36m0.0\u001b[0m\u001b[0;34m]\u001b[0m\u001b[0;34m]\u001b[0m\u001b[0;34m,\u001b[0m \u001b[0mrequires_grad\u001b[0m \u001b[0;34m=\u001b[0m \u001b[0;32mTrue\u001b[0m\u001b[0;34m)\u001b[0m\u001b[0;34m)\u001b[0m\u001b[0;34m\u001b[0m\u001b[0;34m\u001b[0m\u001b[0m\n",
            "\u001b[0;32m/usr/local/lib/python3.6/dist-packages/torch/tensor.py\u001b[0m in \u001b[0;36m<lambda>\u001b[0;34m(i)\u001b[0m\n\u001b[1;32m    460\u001b[0m                           \u001b[0;34m'iterations executed (and might lead to errors or silently give '\u001b[0m\u001b[0;34m\u001b[0m\u001b[0;34m\u001b[0m\u001b[0m\n\u001b[1;32m    461\u001b[0m                           'incorrect results).', category=RuntimeWarning)\n\u001b[0;32m--> 462\u001b[0;31m         \u001b[0;32mreturn\u001b[0m \u001b[0miter\u001b[0m\u001b[0;34m(\u001b[0m\u001b[0mimap\u001b[0m\u001b[0;34m(\u001b[0m\u001b[0;32mlambda\u001b[0m \u001b[0mi\u001b[0m\u001b[0;34m:\u001b[0m \u001b[0mself\u001b[0m\u001b[0;34m[\u001b[0m\u001b[0mi\u001b[0m\u001b[0;34m]\u001b[0m\u001b[0;34m,\u001b[0m \u001b[0mrange\u001b[0m\u001b[0;34m(\u001b[0m\u001b[0mself\u001b[0m\u001b[0;34m.\u001b[0m\u001b[0msize\u001b[0m\u001b[0;34m(\u001b[0m\u001b[0;36m0\u001b[0m\u001b[0;34m)\u001b[0m\u001b[0;34m)\u001b[0m\u001b[0;34m)\u001b[0m\u001b[0;34m)\u001b[0m\u001b[0;34m\u001b[0m\u001b[0;34m\u001b[0m\u001b[0m\n\u001b[0m\u001b[1;32m    463\u001b[0m \u001b[0;34m\u001b[0m\u001b[0m\n\u001b[1;32m    464\u001b[0m     \u001b[0;32mdef\u001b[0m \u001b[0m__hash__\u001b[0m\u001b[0;34m(\u001b[0m\u001b[0mself\u001b[0m\u001b[0;34m)\u001b[0m\u001b[0;34m:\u001b[0m\u001b[0;34m\u001b[0m\u001b[0;34m\u001b[0m\u001b[0m\n",
            "\u001b[0;31mKeyboardInterrupt\u001b[0m: "
          ]
        }
      ]
    },
    {
      "cell_type": "code",
      "metadata": {
        "id": "nw_4rhGv5sxd",
        "colab_type": "code",
        "colab": {
          "base_uri": "https://localhost:8080/",
          "height": 296
        },
        "outputId": "20e58bc3-6dcd-4ab8-8ae1-0fd09b82f713"
      },
      "source": [
        "plt.plot(np.mean(np.mean(statistics_all, axis = 1), axis = 0))\n",
        "plt.plot(np.mean(np.mean(statistics_mean, axis = 1), axis = 0))\n",
        "plt.xlabel('Episode')\n",
        "plt.ylabel('Reward')\n",
        "plt.grid()\n",
        "plt.show()\n",
        "print('Varince of reward = {}'.format(np.var(np.mean(np.mean(statistics_all, axis = 1), axis = 0))))"
      ],
      "execution_count": 182,
      "outputs": [
        {
          "output_type": "display_data",
          "data": {
            "image/png": "[encoded data removed]",
            "text/plain": [
              "<Figure size 432x288 with 1 Axes>"
            ]
          },
          "metadata": {
            "tags": []
          }
        },
        {
          "output_type": "stream",
          "text": [
            "Varince of reward = 3467.4896215743997\n"
          ],
          "name": "stdout"
        }
      ]
    },
    {
      "cell_type": "code",
      "metadata": {
        "id": "L-1bLfv3mo5p",
        "colab_type": "code",
        "colab": {}
      },
      "source": [
        ""
      ],
      "execution_count": 0,
      "outputs": []
    }
  ]
}