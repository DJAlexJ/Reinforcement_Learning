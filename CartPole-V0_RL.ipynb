{
 "cells": [
  {
   "cell_type": "code",
   "execution_count": 1,
   "metadata": {},
   "outputs": [],
   "source": [
    "import sys\n",
    "import torch  \n",
    "import gym\n",
    "import numpy as np\n",
    "import pandas as pd\n",
    "import torch.nn as nn\n",
    "import torch.optim as optim\n",
    "import torch.nn.functional as F\n",
    "from torch.autograd import Variable\n",
    "import matplotlib.pyplot as plt"
   ]
  },
  {
   "cell_type": "markdown",
   "metadata": {},
   "source": [
    "# REINFORCE"
   ]
  },
  {
   "cell_type": "code",
   "execution_count": 2,
   "metadata": {},
   "outputs": [],
   "source": [
    "# Constants\n",
    "GAMMA = 0.9\n",
    "\n",
    "class PolicyNetwork(nn.Module):\n",
    "    def __init__(self, num_inputs, num_actions, hidden_size, learning_rate=3e-4):\n",
    "        super(PolicyNetwork, self).__init__()\n",
    "\n",
    "        self.num_actions = num_actions\n",
    "        self.linear1 = nn.Linear(num_inputs, hidden_size)\n",
    "        self.linear2 = nn.Linear(hidden_size, num_actions)\n",
    "        self.optimizer = optim.Adam(self.parameters(), lr=learning_rate)\n",
    "\n",
    "    def forward(self, state):\n",
    "        x = F.relu(self.linear1(state))\n",
    "        x = F.softmax(self.linear2(x), dim=1)\n",
    "        return x \n",
    "    \n",
    "    def get_action(self, state):\n",
    "        state = torch.from_numpy(state).float().unsqueeze(0)\n",
    "        probs = self.forward(Variable(state))\n",
    "        #Choose action with regard to policy\n",
    "        highest_prob_action = np.random.choice(self.num_actions, p=np.squeeze(probs.detach().numpy()))\n",
    "        log_prob = torch.log(probs.squeeze(0)[highest_prob_action]) #log for gradient\n",
    "        return highest_prob_action, log_prob"
   ]
  },
  {
   "cell_type": "code",
   "execution_count": 3,
   "metadata": {},
   "outputs": [],
   "source": [
    "def update_policy(policy_network, rewards, log_probs):\n",
    "    discounted_rewards = []\n",
    "\n",
    "    for t in range(len(rewards)):\n",
    "        Gt = 0 \n",
    "        pw = 0\n",
    "        for r in rewards[t:]:\n",
    "            Gt = Gt + GAMMA**pw * r\n",
    "            pw = pw + 1\n",
    "        discounted_rewards.append(Gt)\n",
    "        \n",
    "    discounted_rewards = torch.tensor(discounted_rewards)\n",
    "    discounted_rewards = (discounted_rewards - discounted_rewards.mean()) / (discounted_rewards.std() + 1e-9) # normalize discounted rewards\n",
    "\n",
    "    policy_gradient = []\n",
    "    for log_prob, Gt in zip(log_probs, discounted_rewards):\n",
    "        policy_gradient.append(-log_prob * Gt)\n",
    "    \n",
    "    policy_network.optimizer.zero_grad()\n",
    "    policy_gradient = torch.stack(policy_gradient).sum()\n",
    "    policy_gradient.backward()\n",
    "    policy_network.optimizer.step()"
   ]
  },
  {
   "cell_type": "code",
   "execution_count": 4,
   "metadata": {},
   "outputs": [],
   "source": [
    "#All available environments\n",
    "#print(gym.envs.registry.all()) "
   ]
  },
  {
   "cell_type": "code",
   "execution_count": 5,
   "metadata": {},
   "outputs": [
    {
     "name": "stdout",
     "output_type": "stream",
     "text": [
      "episode: 0, total reward: 15.0, average_reward: 15.0, length: 14\n",
      "episode: 10, total reward: 33.0, average_reward: 22.8, length: 32\n",
      "episode: 20, total reward: 28.0, average_reward: 26.0, length: 27\n",
      "episode: 30, total reward: 18.0, average_reward: 20.6, length: 17\n",
      "episode: 40, total reward: 19.0, average_reward: 23.3, length: 18\n",
      "episode: 50, total reward: 25.0, average_reward: 17.6, length: 24\n",
      "episode: 60, total reward: 19.0, average_reward: 19.4, length: 18\n",
      "episode: 70, total reward: 23.0, average_reward: 30.7, length: 22\n",
      "episode: 80, total reward: 19.0, average_reward: 30.1, length: 18\n",
      "episode: 90, total reward: 23.0, average_reward: 23.0, length: 22\n",
      "episode: 100, total reward: 24.0, average_reward: 21.9, length: 23\n",
      "episode: 110, total reward: 24.0, average_reward: 34.4, length: 23\n",
      "episode: 120, total reward: 55.0, average_reward: 29.4, length: 54\n",
      "episode: 130, total reward: 82.0, average_reward: 32.3, length: 81\n",
      "episode: 140, total reward: 36.0, average_reward: 34.2, length: 35\n",
      "episode: 150, total reward: 25.0, average_reward: 27.8, length: 24\n",
      "episode: 160, total reward: 40.0, average_reward: 31.0, length: 39\n",
      "episode: 170, total reward: 74.0, average_reward: 37.1, length: 73\n",
      "episode: 180, total reward: 39.0, average_reward: 36.4, length: 38\n",
      "episode: 190, total reward: 52.0, average_reward: 35.5, length: 51\n",
      "episode: 200, total reward: 14.0, average_reward: 38.8, length: 13\n",
      "episode: 210, total reward: 10.0, average_reward: 42.0, length: 9\n",
      "episode: 220, total reward: 42.0, average_reward: 40.3, length: 41\n",
      "episode: 230, total reward: 25.0, average_reward: 28.2, length: 24\n",
      "episode: 240, total reward: 68.0, average_reward: 38.4, length: 67\n",
      "episode: 250, total reward: 40.0, average_reward: 35.1, length: 39\n",
      "episode: 260, total reward: 22.0, average_reward: 46.2, length: 21\n",
      "episode: 270, total reward: 22.0, average_reward: 46.4, length: 21\n",
      "episode: 280, total reward: 32.0, average_reward: 49.0, length: 31\n",
      "episode: 290, total reward: 46.0, average_reward: 43.4, length: 45\n",
      "episode: 300, total reward: 46.0, average_reward: 53.1, length: 45\n",
      "episode: 310, total reward: 75.0, average_reward: 38.2, length: 74\n",
      "episode: 320, total reward: 105.0, average_reward: 54.8, length: 104\n",
      "episode: 330, total reward: 30.0, average_reward: 47.0, length: 29\n",
      "episode: 340, total reward: 40.0, average_reward: 44.4, length: 39\n",
      "episode: 350, total reward: 21.0, average_reward: 31.9, length: 20\n",
      "episode: 360, total reward: 67.0, average_reward: 50.4, length: 66\n",
      "episode: 370, total reward: 37.0, average_reward: 55.6, length: 36\n",
      "episode: 380, total reward: 47.0, average_reward: 45.6, length: 46\n",
      "episode: 390, total reward: 49.0, average_reward: 53.5, length: 48\n",
      "episode: 400, total reward: 102.0, average_reward: 72.4, length: 101\n",
      "episode: 410, total reward: 103.0, average_reward: 76.1, length: 102\n",
      "episode: 420, total reward: 24.0, average_reward: 53.6, length: 23\n",
      "episode: 430, total reward: 197.0, average_reward: 82.4, length: 196\n",
      "episode: 440, total reward: 80.0, average_reward: 74.7, length: 79\n",
      "episode: 450, total reward: 76.0, average_reward: 60.4, length: 75\n",
      "episode: 460, total reward: 35.0, average_reward: 74.3, length: 34\n",
      "episode: 470, total reward: 33.0, average_reward: 75.8, length: 32\n",
      "episode: 480, total reward: 35.0, average_reward: 73.6, length: 34\n",
      "episode: 490, total reward: 146.0, average_reward: 81.9, length: 145\n",
      "episode: 500, total reward: 26.0, average_reward: 47.9, length: 25\n",
      "episode: 510, total reward: 91.0, average_reward: 92.8, length: 90\n",
      "episode: 520, total reward: 41.0, average_reward: 89.6, length: 40\n",
      "episode: 530, total reward: 24.0, average_reward: 96.5, length: 23\n",
      "episode: 540, total reward: 160.0, average_reward: 108.1, length: 159\n",
      "episode: 550, total reward: 200.0, average_reward: 88.1, length: 199\n",
      "episode: 560, total reward: 41.0, average_reward: 61.1, length: 40\n",
      "episode: 570, total reward: 116.0, average_reward: 100.3, length: 115\n",
      "episode: 580, total reward: 118.0, average_reward: 73.3, length: 117\n",
      "episode: 590, total reward: 114.0, average_reward: 124.0, length: 113\n",
      "episode: 600, total reward: 142.0, average_reward: 109.8, length: 141\n",
      "episode: 610, total reward: 108.0, average_reward: 104.6, length: 107\n",
      "episode: 620, total reward: 128.0, average_reward: 130.2, length: 127\n",
      "episode: 630, total reward: 70.0, average_reward: 103.1, length: 69\n",
      "episode: 640, total reward: 83.0, average_reward: 95.3, length: 82\n",
      "episode: 650, total reward: 116.0, average_reward: 123.2, length: 115\n",
      "episode: 660, total reward: 26.0, average_reward: 134.1, length: 25\n",
      "episode: 670, total reward: 128.0, average_reward: 106.7, length: 127\n",
      "episode: 680, total reward: 200.0, average_reward: 167.9, length: 199\n",
      "episode: 690, total reward: 133.0, average_reward: 131.4, length: 132\n",
      "episode: 700, total reward: 119.0, average_reward: 147.0, length: 118\n",
      "episode: 710, total reward: 200.0, average_reward: 129.9, length: 199\n",
      "episode: 720, total reward: 180.0, average_reward: 155.4, length: 179\n",
      "episode: 730, total reward: 200.0, average_reward: 136.8, length: 199\n",
      "episode: 740, total reward: 123.0, average_reward: 134.4, length: 122\n",
      "episode: 750, total reward: 200.0, average_reward: 173.6, length: 199\n",
      "episode: 760, total reward: 128.0, average_reward: 159.7, length: 127\n",
      "episode: 770, total reward: 200.0, average_reward: 159.4, length: 199\n",
      "episode: 780, total reward: 117.0, average_reward: 164.4, length: 116\n",
      "episode: 790, total reward: 20.0, average_reward: 127.3, length: 19\n",
      "episode: 800, total reward: 140.0, average_reward: 170.7, length: 139\n",
      "episode: 810, total reward: 200.0, average_reward: 155.4, length: 199\n",
      "episode: 820, total reward: 200.0, average_reward: 161.7, length: 199\n",
      "episode: 830, total reward: 132.0, average_reward: 174.9, length: 131\n",
      "episode: 840, total reward: 200.0, average_reward: 189.3, length: 199\n",
      "episode: 850, total reward: 154.0, average_reward: 177.8, length: 153\n",
      "episode: 860, total reward: 147.0, average_reward: 170.2, length: 146\n",
      "episode: 870, total reward: 200.0, average_reward: 167.5, length: 199\n",
      "episode: 880, total reward: 29.0, average_reward: 171.5, length: 28\n",
      "episode: 890, total reward: 100.0, average_reward: 173.8, length: 99\n",
      "episode: 900, total reward: 200.0, average_reward: 163.8, length: 199\n",
      "episode: 910, total reward: 115.0, average_reward: 160.0, length: 114\n",
      "episode: 920, total reward: 148.0, average_reward: 175.3, length: 147\n",
      "episode: 930, total reward: 200.0, average_reward: 196.7, length: 199\n",
      "episode: 940, total reward: 200.0, average_reward: 189.6, length: 199\n",
      "episode: 950, total reward: 154.0, average_reward: 164.1, length: 153\n",
      "episode: 960, total reward: 200.0, average_reward: 200.0, length: 199\n",
      "episode: 970, total reward: 200.0, average_reward: 185.1, length: 199\n",
      "episode: 980, total reward: 200.0, average_reward: 186.9, length: 199\n",
      "episode: 990, total reward: 200.0, average_reward: 177.6, length: 199\n"
     ]
    }
   ],
   "source": [
    "env = gym.make('CartPole-v0')\n",
    "policy_net = PolicyNetwork(env.observation_space.shape[0], env.action_space.n, 128)\n",
    "    \n",
    "max_episode_num = 1000\n",
    "max_steps = 10000\n",
    "numsteps = []\n",
    "avg_numsteps = []\n",
    "all_rewards = []\n",
    "\n",
    "for episode in range(max_episode_num):\n",
    "    state = env.reset()\n",
    "    log_probs = []\n",
    "    rewards = []\n",
    "\n",
    "    for steps in range(max_steps):\n",
    "        env.render()\n",
    "        action, log_prob = policy_net.get_action(state)\n",
    "        new_state, reward, done, _ = env.step(action)\n",
    "        log_probs.append(log_prob)\n",
    "        rewards.append(reward)\n",
    "\n",
    "        if done:\n",
    "            update_policy(policy_net, rewards, log_probs)\n",
    "            numsteps.append(steps)\n",
    "            avg_numsteps.append(np.mean(numsteps[-10:]))\n",
    "            all_rewards.append(np.sum(rewards))\n",
    "            if episode % 10 == 0:\n",
    "                sys.stdout.write(\"episode: {}, total reward: {}, average_reward: {}, length: {}\\n\".format(episode, np.round(np.sum(rewards), decimals = 3),  np.round(np.mean(all_rewards[-10:]), decimals = 3), steps))\n",
    "            break\n",
    "            \n",
    "        state = new_state"
   ]
  },
  {
   "cell_type": "code",
   "execution_count": 6,
   "metadata": {},
   "outputs": [
    {
     "data": {
      "image/png": "[encoded data removed]",
      "text/plain": [
       "<Figure size 432x288 with 1 Axes>"
      ]
     },
     "metadata": {
      "needs_background": "light"
     },
     "output_type": "display_data"
    },
    {
     "name": "stdout",
     "output_type": "stream",
     "text": [
      "Varince of reward = 4765.980639\n"
     ]
    }
   ],
   "source": [
    "smoothed_rewards = pd.Series.rolling(pd.Series(all_rewards), 10).mean()\n",
    "plt.plot(all_rewards)\n",
    "plt.plot(avg_numsteps)\n",
    "plt.xlabel('Episode')\n",
    "plt.ylabel('Reward')\n",
    "plt.show()\n",
    "print('Varince of reward = {}'.format(np.var(all_rewards)))"
   ]
  }
 ],
 "metadata": {
  "kernelspec": {
   "display_name": "Python 3",
   "language": "python",
   "name": "python3"
  },
  "language_info": {
   "codemirror_mode": {
    "name": "ipython",
    "version": 3
   },
   "file_extension": ".py",
   "mimetype": "text/x-python",
   "name": "python",
   "nbconvert_exporter": "python",
   "pygments_lexer": "ipython3",
   "version": "3.7.6"
  }
 },
 "nbformat": 4,
 "nbformat_minor": 4
}
