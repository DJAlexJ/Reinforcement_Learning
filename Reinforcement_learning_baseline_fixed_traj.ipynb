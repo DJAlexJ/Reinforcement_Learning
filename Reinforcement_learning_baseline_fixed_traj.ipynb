{
  "nbformat": 4,
  "nbformat_minor": 0,
  "metadata": {
    "colab": {
      "name": "Reinforcement_learning_baseline_averaged.ipynb",
      "provenance": [],
      "collapsed_sections": []
    },
    "kernelspec": {
      "name": "python3",
      "display_name": "Python 3"
    },
    "accelerator": "GPU"
  },
  "cells": [
    {
      "cell_type": "code",
      "metadata": {
        "id": "av4t4b5g45el",
        "colab_type": "code",
        "colab": {}
      },
      "source": [
        "import sys\n",
        "import torch  \n",
        "import gym\n",
        "import numpy as np\n",
        "import pandas as pd\n",
        "import torch.nn as nn\n",
        "import torch.optim as optim\n",
        "import torch.nn.functional as F\n",
        "from torch.autograd import Variable\n",
        "import matplotlib.pyplot as plt\n",
        "from tqdm import tqdm\n",
        "from scipy.optimize import least_squares"
      ],
      "execution_count": 0,
      "outputs": []
    },
    {
      "cell_type": "code",
      "metadata": {
        "id": "oTF0WguK-F70",
        "colab_type": "code",
        "outputId": "b9004432-d4b1-4932-a172-83037c6861a0",
        "colab": {
          "base_uri": "https://localhost:8080/",
          "height": 34
        }
      },
      "source": [
        "torch.cuda.is_available()"
      ],
      "execution_count": 0,
      "outputs": [
        {
          "output_type": "execute_result",
          "data": {
            "text/plain": [
              "True"
            ]
          },
          "metadata": {
            "tags": []
          },
          "execution_count": 45
        }
      ]
    },
    {
      "cell_type": "code",
      "metadata": {
        "id": "OFP-x3MA5LEN",
        "colab_type": "code",
        "colab": {}
      },
      "source": [
        "# Constants\n",
        "GAMMA = 0.99\n",
        "\n",
        "class PolicyNetwork(nn.Module):\n",
        "    def __init__(self, num_inputs, num_actions, hidden_size, learning_rate=3e-4):\n",
        "        super(PolicyNetwork, self).__init__()\n",
        "\n",
        "        self.num_actions = num_actions\n",
        "        self.linear1 = nn.Linear(num_inputs, hidden_size)\n",
        "        self.linear2 = nn.Linear(hidden_size, num_actions)\n",
        "        self.optimizer = optim.Adam(self.parameters(), lr=learning_rate)\n",
        "\n",
        "    def forward(self, state):\n",
        "        x = F.relu(self.linear1(state))\n",
        "        x = F.softmax(self.linear2(x), dim=1)\n",
        "        return x \n",
        "    \n",
        "    def get_action(self, state):\n",
        "        state = torch.from_numpy(state).float().unsqueeze(0)\n",
        "        probs = self.forward(Variable(state))\n",
        "        #Choose action with regard to policy\n",
        "        highest_prob_action = np.random.choice(self.num_actions, p=np.squeeze(probs.detach().numpy()))\n",
        "        log_prob = torch.log(probs.squeeze(0)[highest_prob_action]) #log for gradient\n",
        "        return highest_prob_action, log_prob"
      ],
      "execution_count": 0,
      "outputs": []
    },
    {
      "cell_type": "code",
      "metadata": {
        "id": "IK5vloYO5Ox5",
        "colab_type": "code",
        "colab": {}
      },
      "source": [
        "class ValueNetwork(nn.Module):\n",
        "    def __init__(self, num_inputs, num_actions, hidden_size, learning_rate=3e-9):\n",
        "        super(ValueNetwork, self).__init__()\n",
        "\n",
        "        self.num_actions = num_actions\n",
        "        self.linear1 = nn.Linear(num_inputs, hidden_size)\n",
        "        self.linear2 = nn.Linear(hidden_size, 1)\n",
        "        self.optimizer = optim.Adam(self.parameters(), lr=learning_rate)\n",
        "    \n",
        "    def forward(self, state):\n",
        "        state = Variable(torch.from_numpy(state).float().unsqueeze(0))\n",
        "        value = F.relu(self.linear1(state))\n",
        "        value = self.linear2(value)\n",
        "        return value"
      ],
      "execution_count": 0,
      "outputs": []
    },
    {
      "cell_type": "code",
      "metadata": {
        "id": "fH6RMdJm5Rao",
        "colab_type": "code",
        "colab": {}
      },
      "source": [
        "def update_policy(policy_network, trajectories_gradient):\n",
        "    policy_network.optimizer.zero_grad()    \n",
        "    policy_gradient = torch.stack(trajectories_gradient).sum()\n",
        "    policy_gradient.backward()\n",
        "    policy_network.optimizer.step()"
      ],
      "execution_count": 0,
      "outputs": []
    },
    {
      "cell_type": "code",
      "metadata": {
        "id": "f1wZxyEv-A_Y",
        "colab_type": "code",
        "colab": {}
      },
      "source": [
        "def count_trajectory_for_baseline(rewards, log_probs, baseline):\n",
        "    discounted_rewards = []\n",
        "\n",
        "    for t in range(len(rewards)):\n",
        "        Gt = 0 \n",
        "        pw = 0\n",
        "        for r in rewards[t:]:\n",
        "            Gt = Gt + GAMMA**pw * r\n",
        "            pw = pw + 1\n",
        "        discounted_rewards.append(Gt)\n",
        "        \n",
        "    discounted_rewards = torch.tensor(discounted_rewards)\n",
        "    discounted_rewards = (discounted_rewards - discounted_rewards.mean()) / (discounted_rewards.std() + 1e-9) # normalize discounted rewards\n",
        "\n",
        "    policy_gradient = []\n",
        "    log_deriv = []\n",
        "    for log_prob in log_probs:\n",
        "      if log_prob != 0:\n",
        "        log_prob.backward(retain_graph = True)\n",
        "        deriv = []\n",
        "        for param in policy_net.parameters():\n",
        "          deriv.append(param.grad.resize(param.grad.numel()))\n",
        "        deriv = torch.cat([tensor**2 for tensor in deriv], 0)\n",
        "        log_deriv.append(deriv.sum())\n",
        "      else:\n",
        "        log_deriv.append(0)\n",
        "\n",
        "    for log_prob_deriv, Gt, bs in zip(log_deriv, discounted_rewards, baseline):\n",
        "        if log_prob_deriv == 0:\n",
        "            policy_gradient.append(torch.tensor([0.0], requires_grad = True))\n",
        "        else:\n",
        "            #term = torch.tensor([log_prob_deriv], requires_grad = True)\n",
        "            #term = term * (Gt - bs.resize(1))**2\n",
        "            policy_gradient.append(torch.tensor([log_prob_deriv * (Gt - bs.resize(1))**2], requires_grad = True))\n",
        "            #policy_gradient.append(term)\n",
        "    policy_gradient = torch.stack(policy_gradient).sum()\n",
        "    return policy_gradient"
      ],
      "execution_count": 0,
      "outputs": []
    },
    {
      "cell_type": "code",
      "metadata": {
        "id": "0K9WsvOe5UF4",
        "colab_type": "code",
        "colab": {}
      },
      "source": [
        "def count_trajectory_for_policy(rewards, log_probs, baseline):\n",
        "    discounted_rewards = []\n",
        "\n",
        "    for t in range(len(rewards)):\n",
        "        Gt = 0 \n",
        "        pw = 0\n",
        "        for r in rewards[t:]:\n",
        "            Gt = Gt + GAMMA**pw * r\n",
        "            pw = pw + 1\n",
        "        discounted_rewards.append(Gt)\n",
        "        \n",
        "    discounted_rewards = torch.tensor(discounted_rewards)\n",
        "    discounted_rewards = (discounted_rewards - discounted_rewards.mean()) / (discounted_rewards.std() + 1e-9) # normalize discounted rewards\n",
        "\n",
        "    policy_gradient = []\n",
        "    for log_prob, Gt, bs in zip(log_probs, discounted_rewards, baseline):\n",
        "        if log_prob == 0:\n",
        "            policy_gradient.append(torch.tensor([[0.0]], requires_grad = True))\n",
        "        else:\n",
        "            policy_gradient.append(-log_prob * (Gt - bs))\n",
        "    \n",
        "    policy_gradient = torch.stack(policy_gradient).sum()\n",
        "    return policy_gradient"
      ],
      "execution_count": 0,
      "outputs": []
    },
    {
      "cell_type": "code",
      "metadata": {
        "id": "B4LCCInY5Xvf",
        "colab_type": "code",
        "colab": {}
      },
      "source": [
        "def align_columns_zeros(array):\n",
        "    max_length = max(list(map(lambda x: len(x), array)))\n",
        "    for col in range(len(array)):\n",
        "        array[col] = np.pad(array[col], max_length - len(array[col]), 'constant', constant_values = 0)[max_length - len(array[col]):]\n",
        "    return array"
      ],
      "execution_count": 0,
      "outputs": []
    },
    {
      "cell_type": "code",
      "metadata": {
        "id": "pLm4i1Vh5b2P",
        "colab_type": "code",
        "colab": {}
      },
      "source": [
        "def baseline_approximation(policy_net, value_net, n_trajectories, n_epoch = 4000, early_stopping_rounds = 250):\n",
        "    max_steps = 10000\n",
        "    min_loss = float('inf')\n",
        "    stopping_rounds = 0\n",
        "    epoch = 1\n",
        "    value_loss_list = []\n",
        "    \n",
        "    rewards = [[] for i in range(n_trajectories)]\n",
        "    log_probs = [[] for i in range(n_trajectories)]\n",
        "\n",
        "    states = [[] for i in range(n_trajectories)]\n",
        "    \n",
        "    for trajectory in range(n_trajectories):\n",
        "        state = env.reset()\n",
        "            \n",
        "        for steps in range(max_steps):\n",
        "            states[trajectory].append(state)\n",
        "            action, log_prob = policy_net.get_action(state)\n",
        "            new_state, reward, done, _ = env.step(np.array(action))\n",
        "            log_probs[trajectory].append(log_prob)\n",
        "            rewards[trajectory].append(reward)\n",
        "            if done:                    \n",
        "                break\n",
        "            state = new_state\n",
        "\n",
        "    rewards = align_columns_zeros(rewards)\n",
        "    log_probs = align_columns_zeros(log_probs)\n",
        "\n",
        "    while(stopping_rounds < early_stopping_rounds and epoch < n_epoch):\n",
        "      r_gradient = []\n",
        "      baseline_values = [[] for i in range(n_trajectories)]\n",
        "\n",
        "      for trajectory in range(n_trajectories):\n",
        "        for state_element in states[trajectory]:\n",
        "          baseline = value_net.forward(state)\n",
        "          baseline_values[trajectory].append(baseline)\n",
        "      baseline_values = align_columns_zeros(baseline_values)\n",
        "      for col in range(len(rewards)):\n",
        "          traj = count_trajectory_for_baseline(rewards[col], log_probs[col], baseline_values[col])\n",
        "          r_gradient.append(traj)\n",
        "\n",
        "      r_gradient = torch.stack(r_gradient)\n",
        "      value_loss = r_gradient.mean()\n",
        "      value_loss_list.append(value_loss)\n",
        "      if value_loss < min_loss:\n",
        "          min_loss = value_loss\n",
        "          torch.save(value_net, 'model.pth')\n",
        "          #print('{}. Current minimum value loss = {}'.format(epoch, value_loss))\n",
        "          stopping_rounds = 0\n",
        "      else:\n",
        "          stopping_rounds += 1\n",
        "      print('{}. Current value loss = {}, min value_loss = {}, stopping_round = {}'.format(epoch, value_loss, min_loss, stopping_rounds))\n",
        "      epoch += 1\n",
        "      value_net.optimizer.zero_grad()\n",
        "      value_loss.backward()\n",
        "      value_net.optimizer.step()\n",
        "    value_net = torch.load('model.pth')\n",
        "    return value_loss_list"
      ],
      "execution_count": 0,
      "outputs": []
    },
    {
      "cell_type": "code",
      "metadata": {
        "id": "UuJiO0Tm5ifD",
        "colab_type": "code",
        "colab": {}
      },
      "source": [
        "def cart_pole_baseline(value_net, n_trajectories = 2, episode_num = 1500, baseline_retrain = False, retrain_episodes = 50):\n",
        "    env = gym.make('CartPole-v0')\n",
        "    policy_net = PolicyNetwork(env.observation_space.shape[0], env.action_space.n, 256)\n",
        "    \n",
        "\n",
        "    max_episode_num = episode_num\n",
        "    max_steps = 10000\n",
        "    numsteps = [[] for i in range(n_trajectories)]\n",
        "    avg_numsteps = [[] for i in range(n_trajectories)]\n",
        "    all_rewards = [[] for i in range(n_trajectories)]\n",
        "\n",
        "    for episode in range(1, max_episode_num + 1):\n",
        "        r_gradient = []\n",
        "        rewards = [[] for i in range(n_trajectories)]\n",
        "        baseline_values = []\n",
        "        \n",
        "        for trajectory in range(n_trajectories):\n",
        "            state = env.reset()\n",
        "            log_probs = []\n",
        "            \n",
        "            for steps in range(max_steps):\n",
        "                #env.render()\n",
        "                baseline = value_net.forward(state)\n",
        "                action, log_prob = policy_net.get_action(state)\n",
        "                new_state, reward, done, _ = env.step(action)\n",
        "                log_probs.append(log_prob)\n",
        "                rewards[trajectory].append(reward)\n",
        "                baseline_values.append(baseline)\n",
        "                \n",
        "                if done:\n",
        "                    traj = count_trajectory_for_policy(rewards[trajectory], log_probs, baseline_values)                       \n",
        "                    r_gradient.append(traj)\n",
        "                    numsteps[trajectory].append(steps)\n",
        "                    avg_numsteps[trajectory].append(np.mean(numsteps[trajectory][-10:]))\n",
        "                    all_rewards[trajectory].append(np.sum(rewards[trajectory]))\n",
        "                    break\n",
        "\n",
        "                state = new_state\n",
        "                \n",
        "        update_policy(policy_net, r_gradient)                 \n",
        "        rewards = align_columns_zeros(rewards)\n",
        "        #print(all_rewards)\n",
        "        if episode % 10 == 0:\n",
        "            sys.stdout.write(\"episode: {}, total mean reward among trajectories: {}, average_reward_among_trajectories: {}\\n\".\\\n",
        "                                     format(episode, np.round(np.mean(np.sum(rewards, axis = 1)), decimals = 3),\\\n",
        "                                            np.round(np.mean(np.mean(all_rewards, axis = 0)[-10:]), decimals = 3)))\n",
        "            \n",
        "        if baseline_retrain == True:\n",
        "            if episode % retrain_episodes == 0:\n",
        "                baseline_approximation(policy_net, value_net, 3, n_epoch = 1000, early_stopping_rounds=10)\n",
        "        \n",
        "    return all_rewards, avg_numsteps"
      ],
      "execution_count": 0,
      "outputs": []
    },
    {
      "cell_type": "code",
      "metadata": {
        "id": "a-IAQduN5n25",
        "colab_type": "code",
        "outputId": "ba365bb6-cb4f-446d-ec1a-74d91d81280b",
        "colab": {
          "base_uri": "https://localhost:8080/",
          "height": 1000
        }
      },
      "source": [
        "%%time\n",
        "env = gym.make('CartPole-v0')\n",
        "policy_net = PolicyNetwork(env.observation_space.shape[0], env.action_space.n, 256)\n",
        "value_net = ValueNetwork(env.observation_space.shape[0], env.action_space.n, 256)\n",
        "lst_loss = baseline_approximation(policy_net, value_net, 15, early_stopping_rounds=150)"
      ],
      "execution_count": 22,
      "outputs": [
        {
          "output_type": "stream",
          "text": [
            "/usr/local/lib/python3.6/dist-packages/torch/tensor.py:362: UserWarning: non-inplace resize is deprecated\n",
            "  warnings.warn(\"non-inplace resize is deprecated\")\n",
            "/usr/local/lib/python3.6/dist-packages/torch/serialization.py:360: UserWarning: Couldn't retrieve source code for container of type ValueNetwork. It won't be checked for correctness upon loading.\n",
            "  \"type \" + obj.__name__ + \". It won't be checked \"\n"
          ],
          "name": "stderr"
        },
        {
          "output_type": "stream",
          "text": [
            "1. Current value loss = 30531.404296875, min value_loss = 30531.404296875, stopping_round = 0\n",
            "2. Current value loss = 138857.71875, min value_loss = 30531.404296875, stopping_round = 1\n",
            "3. Current value loss = 348915.15625, min value_loss = 30531.404296875, stopping_round = 2\n",
            "4. Current value loss = 660703.6875, min value_loss = 30531.404296875, stopping_round = 3\n",
            "5. Current value loss = 1074223.125, min value_loss = 30531.404296875, stopping_round = 4\n",
            "6. Current value loss = 1589473.625, min value_loss = 30531.404296875, stopping_round = 5\n",
            "7. Current value loss = 2206455.25, min value_loss = 30531.404296875, stopping_round = 6\n",
            "8. Current value loss = 2925167.75, min value_loss = 30531.404296875, stopping_round = 7\n",
            "9. Current value loss = 3745611.75, min value_loss = 30531.404296875, stopping_round = 8\n",
            "10. Current value loss = 4667786.0, min value_loss = 30531.404296875, stopping_round = 9\n",
            "11. Current value loss = 5691692.5, min value_loss = 30531.404296875, stopping_round = 10\n",
            "12. Current value loss = 6817329.0, min value_loss = 30531.404296875, stopping_round = 11\n",
            "13. Current value loss = 8044697.0, min value_loss = 30531.404296875, stopping_round = 12\n",
            "14. Current value loss = 9373797.0, min value_loss = 30531.404296875, stopping_round = 13\n",
            "15. Current value loss = 10804626.0, min value_loss = 30531.404296875, stopping_round = 14\n",
            "16. Current value loss = 12337190.0, min value_loss = 30531.404296875, stopping_round = 15\n",
            "17. Current value loss = 13971482.0, min value_loss = 30531.404296875, stopping_round = 16\n",
            "18. Current value loss = 15707509.0, min value_loss = 30531.404296875, stopping_round = 17\n",
            "19. Current value loss = 17545266.0, min value_loss = 30531.404296875, stopping_round = 18\n",
            "20. Current value loss = 19484760.0, min value_loss = 30531.404296875, stopping_round = 19\n",
            "21. Current value loss = 21525976.0, min value_loss = 30531.404296875, stopping_round = 20\n",
            "22. Current value loss = 23668926.0, min value_loss = 30531.404296875, stopping_round = 21\n",
            "23. Current value loss = 25913608.0, min value_loss = 30531.404296875, stopping_round = 22\n",
            "24. Current value loss = 28260024.0, min value_loss = 30531.404296875, stopping_round = 23\n",
            "25. Current value loss = 30708164.0, min value_loss = 30531.404296875, stopping_round = 24\n",
            "26. Current value loss = 33258036.0, min value_loss = 30531.404296875, stopping_round = 25\n",
            "27. Current value loss = 35909644.0, min value_loss = 30531.404296875, stopping_round = 26\n",
            "28. Current value loss = 38662984.0, min value_loss = 30531.404296875, stopping_round = 27\n",
            "29. Current value loss = 41518052.0, min value_loss = 30531.404296875, stopping_round = 28\n",
            "30. Current value loss = 44474852.0, min value_loss = 30531.404296875, stopping_round = 29\n",
            "31. Current value loss = 47533380.0, min value_loss = 30531.404296875, stopping_round = 30\n",
            "32. Current value loss = 50693640.0, min value_loss = 30531.404296875, stopping_round = 31\n"
          ],
          "name": "stdout"
        },
        {
          "output_type": "error",
          "ename": "KeyboardInterrupt",
          "evalue": "ignored",
          "traceback": [
            "\u001b[0;31m---------------------------------------------------------------------------\u001b[0m",
            "\u001b[0;31mKeyboardInterrupt\u001b[0m                         Traceback (most recent call last)",
            "\u001b[0;32m<ipython-input-22-2805979fe7ef>\u001b[0m in \u001b[0;36m<module>\u001b[0;34m()\u001b[0m\n\u001b[0;32m----> 1\u001b[0;31m \u001b[0mget_ipython\u001b[0m\u001b[0;34m(\u001b[0m\u001b[0;34m)\u001b[0m\u001b[0;34m.\u001b[0m\u001b[0mrun_cell_magic\u001b[0m\u001b[0;34m(\u001b[0m\u001b[0;34m'time'\u001b[0m\u001b[0;34m,\u001b[0m \u001b[0;34m''\u001b[0m\u001b[0;34m,\u001b[0m \u001b[0;34m\"env = gym.make('CartPole-v0')\\npolicy_net = PolicyNetwork(env.observation_space.shape[0], env.action_space.n, 256)\\nvalue_net = ValueNetwork(env.observation_space.shape[0], env.action_space.n, 256)\\nlst_loss = baseline_approximation(policy_net, value_net, 15, early_stopping_rounds=150)\"\u001b[0m\u001b[0;34m)\u001b[0m\u001b[0;34m\u001b[0m\u001b[0;34m\u001b[0m\u001b[0m\n\u001b[0m",
            "\u001b[0;32m/usr/local/lib/python3.6/dist-packages/IPython/core/interactiveshell.py\u001b[0m in \u001b[0;36mrun_cell_magic\u001b[0;34m(self, magic_name, line, cell)\u001b[0m\n\u001b[1;32m   2115\u001b[0m             \u001b[0mmagic_arg_s\u001b[0m \u001b[0;34m=\u001b[0m \u001b[0mself\u001b[0m\u001b[0;34m.\u001b[0m\u001b[0mvar_expand\u001b[0m\u001b[0;34m(\u001b[0m\u001b[0mline\u001b[0m\u001b[0;34m,\u001b[0m \u001b[0mstack_depth\u001b[0m\u001b[0;34m)\u001b[0m\u001b[0;34m\u001b[0m\u001b[0;34m\u001b[0m\u001b[0m\n\u001b[1;32m   2116\u001b[0m             \u001b[0;32mwith\u001b[0m \u001b[0mself\u001b[0m\u001b[0;34m.\u001b[0m\u001b[0mbuiltin_trap\u001b[0m\u001b[0;34m:\u001b[0m\u001b[0;34m\u001b[0m\u001b[0;34m\u001b[0m\u001b[0m\n\u001b[0;32m-> 2117\u001b[0;31m                 \u001b[0mresult\u001b[0m \u001b[0;34m=\u001b[0m \u001b[0mfn\u001b[0m\u001b[0;34m(\u001b[0m\u001b[0mmagic_arg_s\u001b[0m\u001b[0;34m,\u001b[0m \u001b[0mcell\u001b[0m\u001b[0;34m)\u001b[0m\u001b[0;34m\u001b[0m\u001b[0;34m\u001b[0m\u001b[0m\n\u001b[0m\u001b[1;32m   2118\u001b[0m             \u001b[0;32mreturn\u001b[0m \u001b[0mresult\u001b[0m\u001b[0;34m\u001b[0m\u001b[0;34m\u001b[0m\u001b[0m\n\u001b[1;32m   2119\u001b[0m \u001b[0;34m\u001b[0m\u001b[0m\n",
            "\u001b[0;32m<decorator-gen-60>\u001b[0m in \u001b[0;36mtime\u001b[0;34m(self, line, cell, local_ns)\u001b[0m\n",
            "\u001b[0;32m/usr/local/lib/python3.6/dist-packages/IPython/core/magic.py\u001b[0m in \u001b[0;36m<lambda>\u001b[0;34m(f, *a, **k)\u001b[0m\n\u001b[1;32m    186\u001b[0m     \u001b[0;31m# but it's overkill for just that one bit of state.\u001b[0m\u001b[0;34m\u001b[0m\u001b[0;34m\u001b[0m\u001b[0;34m\u001b[0m\u001b[0m\n\u001b[1;32m    187\u001b[0m     \u001b[0;32mdef\u001b[0m \u001b[0mmagic_deco\u001b[0m\u001b[0;34m(\u001b[0m\u001b[0marg\u001b[0m\u001b[0;34m)\u001b[0m\u001b[0;34m:\u001b[0m\u001b[0;34m\u001b[0m\u001b[0;34m\u001b[0m\u001b[0m\n\u001b[0;32m--> 188\u001b[0;31m         \u001b[0mcall\u001b[0m \u001b[0;34m=\u001b[0m \u001b[0;32mlambda\u001b[0m \u001b[0mf\u001b[0m\u001b[0;34m,\u001b[0m \u001b[0;34m*\u001b[0m\u001b[0ma\u001b[0m\u001b[0;34m,\u001b[0m \u001b[0;34m**\u001b[0m\u001b[0mk\u001b[0m\u001b[0;34m:\u001b[0m \u001b[0mf\u001b[0m\u001b[0;34m(\u001b[0m\u001b[0;34m*\u001b[0m\u001b[0ma\u001b[0m\u001b[0;34m,\u001b[0m \u001b[0;34m**\u001b[0m\u001b[0mk\u001b[0m\u001b[0;34m)\u001b[0m\u001b[0;34m\u001b[0m\u001b[0;34m\u001b[0m\u001b[0m\n\u001b[0m\u001b[1;32m    189\u001b[0m \u001b[0;34m\u001b[0m\u001b[0m\n\u001b[1;32m    190\u001b[0m         \u001b[0;32mif\u001b[0m \u001b[0mcallable\u001b[0m\u001b[0;34m(\u001b[0m\u001b[0marg\u001b[0m\u001b[0;34m)\u001b[0m\u001b[0;34m:\u001b[0m\u001b[0;34m\u001b[0m\u001b[0;34m\u001b[0m\u001b[0m\n",
            "\u001b[0;32m/usr/local/lib/python3.6/dist-packages/IPython/core/magics/execution.py\u001b[0m in \u001b[0;36mtime\u001b[0;34m(self, line, cell, local_ns)\u001b[0m\n\u001b[1;32m   1191\u001b[0m         \u001b[0;32melse\u001b[0m\u001b[0;34m:\u001b[0m\u001b[0;34m\u001b[0m\u001b[0;34m\u001b[0m\u001b[0m\n\u001b[1;32m   1192\u001b[0m             \u001b[0mst\u001b[0m \u001b[0;34m=\u001b[0m \u001b[0mclock2\u001b[0m\u001b[0;34m(\u001b[0m\u001b[0;34m)\u001b[0m\u001b[0;34m\u001b[0m\u001b[0;34m\u001b[0m\u001b[0m\n\u001b[0;32m-> 1193\u001b[0;31m             \u001b[0mexec\u001b[0m\u001b[0;34m(\u001b[0m\u001b[0mcode\u001b[0m\u001b[0;34m,\u001b[0m \u001b[0mglob\u001b[0m\u001b[0;34m,\u001b[0m \u001b[0mlocal_ns\u001b[0m\u001b[0;34m)\u001b[0m\u001b[0;34m\u001b[0m\u001b[0;34m\u001b[0m\u001b[0m\n\u001b[0m\u001b[1;32m   1194\u001b[0m             \u001b[0mend\u001b[0m \u001b[0;34m=\u001b[0m \u001b[0mclock2\u001b[0m\u001b[0;34m(\u001b[0m\u001b[0;34m)\u001b[0m\u001b[0;34m\u001b[0m\u001b[0;34m\u001b[0m\u001b[0m\n\u001b[1;32m   1195\u001b[0m             \u001b[0mout\u001b[0m \u001b[0;34m=\u001b[0m \u001b[0;32mNone\u001b[0m\u001b[0;34m\u001b[0m\u001b[0;34m\u001b[0m\u001b[0m\n",
            "\u001b[0;32m<timed exec>\u001b[0m in \u001b[0;36m<module>\u001b[0;34m()\u001b[0m\n",
            "\u001b[0;32m<ipython-input-21-22b676c6f5c6>\u001b[0m in \u001b[0;36mbaseline_approximation\u001b[0;34m(policy_net, value_net, n_trajectories, n_epoch, early_stopping_rounds)\u001b[0m\n\u001b[1;32m     37\u001b[0m       \u001b[0mbaseline_values\u001b[0m \u001b[0;34m=\u001b[0m \u001b[0malign_columns_zeros\u001b[0m\u001b[0;34m(\u001b[0m\u001b[0mbaseline_values\u001b[0m\u001b[0;34m)\u001b[0m\u001b[0;34m\u001b[0m\u001b[0;34m\u001b[0m\u001b[0m\n\u001b[1;32m     38\u001b[0m       \u001b[0;32mfor\u001b[0m \u001b[0mcol\u001b[0m \u001b[0;32min\u001b[0m \u001b[0mrange\u001b[0m\u001b[0;34m(\u001b[0m\u001b[0mlen\u001b[0m\u001b[0;34m(\u001b[0m\u001b[0mrewards\u001b[0m\u001b[0;34m)\u001b[0m\u001b[0;34m)\u001b[0m\u001b[0;34m:\u001b[0m\u001b[0;34m\u001b[0m\u001b[0;34m\u001b[0m\u001b[0m\n\u001b[0;32m---> 39\u001b[0;31m           \u001b[0mtraj\u001b[0m \u001b[0;34m=\u001b[0m \u001b[0mcount_trajectory_for_baseline\u001b[0m\u001b[0;34m(\u001b[0m\u001b[0mrewards\u001b[0m\u001b[0;34m[\u001b[0m\u001b[0mcol\u001b[0m\u001b[0;34m]\u001b[0m\u001b[0;34m,\u001b[0m \u001b[0mlog_probs\u001b[0m\u001b[0;34m[\u001b[0m\u001b[0mcol\u001b[0m\u001b[0;34m]\u001b[0m\u001b[0;34m,\u001b[0m \u001b[0mbaseline_values\u001b[0m\u001b[0;34m[\u001b[0m\u001b[0mcol\u001b[0m\u001b[0;34m]\u001b[0m\u001b[0;34m)\u001b[0m\u001b[0;34m\u001b[0m\u001b[0;34m\u001b[0m\u001b[0m\n\u001b[0m\u001b[1;32m     40\u001b[0m           \u001b[0mr_gradient\u001b[0m\u001b[0;34m.\u001b[0m\u001b[0mappend\u001b[0m\u001b[0;34m(\u001b[0m\u001b[0mtraj\u001b[0m\u001b[0;34m)\u001b[0m\u001b[0;34m\u001b[0m\u001b[0;34m\u001b[0m\u001b[0m\n\u001b[1;32m     41\u001b[0m \u001b[0;34m\u001b[0m\u001b[0m\n",
            "\u001b[0;32m<ipython-input-16-315d79c73938>\u001b[0m in \u001b[0;36mcount_trajectory_for_baseline\u001b[0;34m(rewards, log_probs, baseline)\u001b[0m\n\u001b[1;32m     17\u001b[0m     \u001b[0;32mfor\u001b[0m \u001b[0mlog_prob\u001b[0m \u001b[0;32min\u001b[0m \u001b[0mlog_probs\u001b[0m\u001b[0;34m:\u001b[0m\u001b[0;34m\u001b[0m\u001b[0;34m\u001b[0m\u001b[0m\n\u001b[1;32m     18\u001b[0m       \u001b[0;32mif\u001b[0m \u001b[0mlog_prob\u001b[0m \u001b[0;34m!=\u001b[0m \u001b[0;36m0\u001b[0m\u001b[0;34m:\u001b[0m\u001b[0;34m\u001b[0m\u001b[0;34m\u001b[0m\u001b[0m\n\u001b[0;32m---> 19\u001b[0;31m         \u001b[0mlog_prob\u001b[0m\u001b[0;34m.\u001b[0m\u001b[0mbackward\u001b[0m\u001b[0;34m(\u001b[0m\u001b[0mretain_graph\u001b[0m \u001b[0;34m=\u001b[0m \u001b[0;32mTrue\u001b[0m\u001b[0;34m)\u001b[0m\u001b[0;34m\u001b[0m\u001b[0;34m\u001b[0m\u001b[0m\n\u001b[0m\u001b[1;32m     20\u001b[0m         \u001b[0mderiv\u001b[0m \u001b[0;34m=\u001b[0m \u001b[0;34m[\u001b[0m\u001b[0;34m]\u001b[0m\u001b[0;34m\u001b[0m\u001b[0;34m\u001b[0m\u001b[0m\n\u001b[1;32m     21\u001b[0m         \u001b[0;32mfor\u001b[0m \u001b[0mparam\u001b[0m \u001b[0;32min\u001b[0m \u001b[0mpolicy_net\u001b[0m\u001b[0;34m.\u001b[0m\u001b[0mparameters\u001b[0m\u001b[0;34m(\u001b[0m\u001b[0;34m)\u001b[0m\u001b[0;34m:\u001b[0m\u001b[0;34m\u001b[0m\u001b[0;34m\u001b[0m\u001b[0m\n",
            "\u001b[0;32m/usr/local/lib/python3.6/dist-packages/torch/tensor.py\u001b[0m in \u001b[0;36mbackward\u001b[0;34m(self, gradient, retain_graph, create_graph)\u001b[0m\n\u001b[1;32m    193\u001b[0m                 \u001b[0mproducts\u001b[0m\u001b[0;34m.\u001b[0m \u001b[0mDefaults\u001b[0m \u001b[0mto\u001b[0m\u001b[0;31m \u001b[0m\u001b[0;31m`\u001b[0m\u001b[0;31m`\u001b[0m\u001b[0;32mFalse\u001b[0m\u001b[0;31m`\u001b[0m\u001b[0;31m`\u001b[0m\u001b[0;34m.\u001b[0m\u001b[0;34m\u001b[0m\u001b[0;34m\u001b[0m\u001b[0m\n\u001b[1;32m    194\u001b[0m         \"\"\"\n\u001b[0;32m--> 195\u001b[0;31m         \u001b[0mtorch\u001b[0m\u001b[0;34m.\u001b[0m\u001b[0mautograd\u001b[0m\u001b[0;34m.\u001b[0m\u001b[0mbackward\u001b[0m\u001b[0;34m(\u001b[0m\u001b[0mself\u001b[0m\u001b[0;34m,\u001b[0m \u001b[0mgradient\u001b[0m\u001b[0;34m,\u001b[0m \u001b[0mretain_graph\u001b[0m\u001b[0;34m,\u001b[0m \u001b[0mcreate_graph\u001b[0m\u001b[0;34m)\u001b[0m\u001b[0;34m\u001b[0m\u001b[0;34m\u001b[0m\u001b[0m\n\u001b[0m\u001b[1;32m    196\u001b[0m \u001b[0;34m\u001b[0m\u001b[0m\n\u001b[1;32m    197\u001b[0m     \u001b[0;32mdef\u001b[0m \u001b[0mregister_hook\u001b[0m\u001b[0;34m(\u001b[0m\u001b[0mself\u001b[0m\u001b[0;34m,\u001b[0m \u001b[0mhook\u001b[0m\u001b[0;34m)\u001b[0m\u001b[0;34m:\u001b[0m\u001b[0;34m\u001b[0m\u001b[0;34m\u001b[0m\u001b[0m\n",
            "\u001b[0;32m/usr/local/lib/python3.6/dist-packages/torch/autograd/__init__.py\u001b[0m in \u001b[0;36mbackward\u001b[0;34m(tensors, grad_tensors, retain_graph, create_graph, grad_variables)\u001b[0m\n\u001b[1;32m     97\u001b[0m     Variable._execution_engine.run_backward(\n\u001b[1;32m     98\u001b[0m         \u001b[0mtensors\u001b[0m\u001b[0;34m,\u001b[0m \u001b[0mgrad_tensors\u001b[0m\u001b[0;34m,\u001b[0m \u001b[0mretain_graph\u001b[0m\u001b[0;34m,\u001b[0m \u001b[0mcreate_graph\u001b[0m\u001b[0;34m,\u001b[0m\u001b[0;34m\u001b[0m\u001b[0;34m\u001b[0m\u001b[0m\n\u001b[0;32m---> 99\u001b[0;31m         allow_unreachable=True)  # allow_unreachable flag\n\u001b[0m\u001b[1;32m    100\u001b[0m \u001b[0;34m\u001b[0m\u001b[0m\n\u001b[1;32m    101\u001b[0m \u001b[0;34m\u001b[0m\u001b[0m\n",
            "\u001b[0;31mKeyboardInterrupt\u001b[0m: "
          ]
        }
      ]
    },
    {
      "cell_type": "code",
      "metadata": {
        "id": "Jn8FplSfsXwo",
        "colab_type": "code",
        "outputId": "5d5456db-12b9-43d2-8d81-3163645fe357",
        "colab": {
          "base_uri": "https://localhost:8080/",
          "height": 293
        }
      },
      "source": [
        "plt.plot(range(len(lst_loss)), lst_loss)"
      ],
      "execution_count": 0,
      "outputs": [
        {
          "output_type": "execute_result",
          "data": {
            "text/plain": [
              "[<matplotlib.lines.Line2D at 0x7f81833b4f28>]"
            ]
          },
          "metadata": {
            "tags": []
          },
          "execution_count": 23
        },
        {
          "output_type": "display_data",
          "data": {
            "image/png": "[encoded data removed]",
            "text/plain": [
              "<Figure size 432x288 with 1 Axes>"
            ]
          },
          "metadata": {
            "tags": []
          }
        }
      ]
    },
    {
      "cell_type": "code",
      "metadata": {
        "id": "KWa8FF8Vuf4j",
        "colab_type": "code",
        "outputId": "3530db02-d2c4-4929-b28e-8838fd0c22ba",
        "colab": {
          "base_uri": "https://localhost:8080/",
          "height": 34
        }
      },
      "source": [
        "lst_loss[0]"
      ],
      "execution_count": 0,
      "outputs": [
        {
          "output_type": "execute_result",
          "data": {
            "text/plain": [
              "tensor(71430.7812, grad_fn=<MeanBackward0>)"
            ]
          },
          "metadata": {
            "tags": []
          },
          "execution_count": 20
        }
      ]
    },
    {
      "cell_type": "code",
      "metadata": {
        "id": "0cCpwMpFFN3P",
        "colab_type": "code",
        "outputId": "6a7e7bb0-7c8d-4b88-85c5-e43a35d156c0",
        "colab": {
          "base_uri": "https://localhost:8080/",
          "height": 1000
        }
      },
      "source": [
        "%%time\n",
        "statistics_all = []\n",
        "statistics_mean = []\n",
        "for game in tqdm(range(1)):\n",
        "  all_rewards, mean_rewards = cart_pole_baseline(value_net, 2, 1500)\n",
        "  statistics_all.append(all_rewards)\n",
        "  statistics_mean.append(mean_rewards)"
      ],
      "execution_count": 0,
      "outputs": [
        {
          "output_type": "stream",
          "text": [
            "\r  0%|          | 0/1 [00:00<?, ?it/s]"
          ],
          "name": "stderr"
        },
        {
          "output_type": "stream",
          "text": [
            "episode: 10, total mean reward among trajectories: 25.0, average_reward_among_trajectories: 18.6\n",
            "episode: 20, total mean reward among trajectories: 13.0, average_reward_among_trajectories: 16.65\n",
            "episode: 30, total mean reward among trajectories: 14.0, average_reward_among_trajectories: 18.5\n",
            "episode: 40, total mean reward among trajectories: 18.5, average_reward_among_trajectories: 20.4\n",
            "episode: 50, total mean reward among trajectories: 13.0, average_reward_among_trajectories: 19.05\n",
            "episode: 60, total mean reward among trajectories: 19.5, average_reward_among_trajectories: 25.25\n",
            "episode: 70, total mean reward among trajectories: 17.0, average_reward_among_trajectories: 25.0\n",
            "episode: 80, total mean reward among trajectories: 29.0, average_reward_among_trajectories: 22.3\n",
            "episode: 90, total mean reward among trajectories: 17.5, average_reward_among_trajectories: 27.7\n",
            "episode: 100, total mean reward among trajectories: 69.5, average_reward_among_trajectories: 27.15\n",
            "episode: 110, total mean reward among trajectories: 27.5, average_reward_among_trajectories: 32.15\n",
            "episode: 120, total mean reward among trajectories: 52.0, average_reward_among_trajectories: 32.9\n",
            "episode: 130, total mean reward among trajectories: 33.5, average_reward_among_trajectories: 37.9\n",
            "episode: 140, total mean reward among trajectories: 38.5, average_reward_among_trajectories: 36.25\n",
            "episode: 150, total mean reward among trajectories: 27.5, average_reward_among_trajectories: 32.65\n",
            "episode: 160, total mean reward among trajectories: 45.0, average_reward_among_trajectories: 50.8\n",
            "episode: 170, total mean reward among trajectories: 27.5, average_reward_among_trajectories: 41.4\n",
            "episode: 180, total mean reward among trajectories: 50.5, average_reward_among_trajectories: 34.8\n",
            "episode: 190, total mean reward among trajectories: 29.0, average_reward_among_trajectories: 43.6\n",
            "episode: 200, total mean reward among trajectories: 39.0, average_reward_among_trajectories: 45.95\n",
            "episode: 210, total mean reward among trajectories: 29.5, average_reward_among_trajectories: 57.6\n",
            "episode: 220, total mean reward among trajectories: 106.5, average_reward_among_trajectories: 42.0\n",
            "episode: 230, total mean reward among trajectories: 52.0, average_reward_among_trajectories: 47.45\n",
            "episode: 240, total mean reward among trajectories: 20.5, average_reward_among_trajectories: 36.95\n",
            "episode: 250, total mean reward among trajectories: 97.0, average_reward_among_trajectories: 62.2\n",
            "episode: 260, total mean reward among trajectories: 60.0, average_reward_among_trajectories: 41.0\n",
            "episode: 270, total mean reward among trajectories: 72.0, average_reward_among_trajectories: 58.9\n",
            "episode: 280, total mean reward among trajectories: 53.0, average_reward_among_trajectories: 63.2\n",
            "episode: 290, total mean reward among trajectories: 81.5, average_reward_among_trajectories: 72.75\n",
            "episode: 300, total mean reward among trajectories: 60.5, average_reward_among_trajectories: 69.4\n",
            "episode: 310, total mean reward among trajectories: 76.0, average_reward_among_trajectories: 89.0\n",
            "episode: 320, total mean reward among trajectories: 126.0, average_reward_among_trajectories: 86.95\n",
            "episode: 330, total mean reward among trajectories: 45.5, average_reward_among_trajectories: 69.7\n",
            "episode: 340, total mean reward among trajectories: 109.0, average_reward_among_trajectories: 101.2\n",
            "episode: 350, total mean reward among trajectories: 88.0, average_reward_among_trajectories: 86.3\n",
            "episode: 360, total mean reward among trajectories: 104.0, average_reward_among_trajectories: 114.2\n",
            "episode: 370, total mean reward among trajectories: 104.5, average_reward_among_trajectories: 81.6\n",
            "episode: 380, total mean reward among trajectories: 199.5, average_reward_among_trajectories: 111.95\n",
            "episode: 390, total mean reward among trajectories: 162.0, average_reward_among_trajectories: 113.6\n",
            "episode: 400, total mean reward among trajectories: 155.0, average_reward_among_trajectories: 102.15\n",
            "episode: 410, total mean reward among trajectories: 105.5, average_reward_among_trajectories: 114.3\n",
            "episode: 420, total mean reward among trajectories: 198.0, average_reward_among_trajectories: 124.45\n",
            "episode: 430, total mean reward among trajectories: 120.0, average_reward_among_trajectories: 114.25\n",
            "episode: 440, total mean reward among trajectories: 153.0, average_reward_among_trajectories: 134.45\n",
            "episode: 450, total mean reward among trajectories: 111.5, average_reward_among_trajectories: 116.9\n",
            "episode: 460, total mean reward among trajectories: 176.5, average_reward_among_trajectories: 157.5\n",
            "episode: 470, total mean reward among trajectories: 138.0, average_reward_among_trajectories: 140.4\n",
            "episode: 480, total mean reward among trajectories: 195.5, average_reward_among_trajectories: 169.45\n",
            "episode: 490, total mean reward among trajectories: 160.0, average_reward_among_trajectories: 159.25\n",
            "episode: 500, total mean reward among trajectories: 170.0, average_reward_among_trajectories: 145.0\n",
            "episode: 510, total mean reward among trajectories: 174.5, average_reward_among_trajectories: 157.45\n",
            "episode: 520, total mean reward among trajectories: 150.5, average_reward_among_trajectories: 175.45\n",
            "episode: 530, total mean reward among trajectories: 200.0, average_reward_among_trajectories: 182.0\n",
            "episode: 540, total mean reward among trajectories: 146.5, average_reward_among_trajectories: 154.9\n",
            "episode: 550, total mean reward among trajectories: 198.5, average_reward_among_trajectories: 163.45\n",
            "episode: 560, total mean reward among trajectories: 191.5, average_reward_among_trajectories: 162.6\n",
            "episode: 570, total mean reward among trajectories: 72.0, average_reward_among_trajectories: 138.15\n",
            "episode: 580, total mean reward among trajectories: 200.0, average_reward_among_trajectories: 151.35\n",
            "episode: 590, total mean reward among trajectories: 166.5, average_reward_among_trajectories: 173.95\n",
            "episode: 600, total mean reward among trajectories: 200.0, average_reward_among_trajectories: 167.95\n",
            "episode: 610, total mean reward among trajectories: 129.0, average_reward_among_trajectories: 169.15\n",
            "episode: 620, total mean reward among trajectories: 200.0, average_reward_among_trajectories: 164.2\n",
            "episode: 630, total mean reward among trajectories: 200.0, average_reward_among_trajectories: 166.3\n",
            "episode: 640, total mean reward among trajectories: 116.5, average_reward_among_trajectories: 160.8\n",
            "episode: 650, total mean reward among trajectories: 184.5, average_reward_among_trajectories: 177.1\n",
            "episode: 660, total mean reward among trajectories: 192.5, average_reward_among_trajectories: 181.35\n",
            "episode: 670, total mean reward among trajectories: 189.5, average_reward_among_trajectories: 164.0\n",
            "episode: 680, total mean reward among trajectories: 164.5, average_reward_among_trajectories: 170.2\n",
            "episode: 690, total mean reward among trajectories: 198.5, average_reward_among_trajectories: 182.25\n",
            "episode: 700, total mean reward among trajectories: 132.5, average_reward_among_trajectories: 173.25\n",
            "episode: 710, total mean reward among trajectories: 122.5, average_reward_among_trajectories: 160.75\n",
            "episode: 720, total mean reward among trajectories: 121.0, average_reward_among_trajectories: 163.55\n",
            "episode: 730, total mean reward among trajectories: 176.5, average_reward_among_trajectories: 167.95\n",
            "episode: 740, total mean reward among trajectories: 179.5, average_reward_among_trajectories: 174.75\n",
            "episode: 750, total mean reward among trajectories: 200.0, average_reward_among_trajectories: 164.7\n",
            "episode: 760, total mean reward among trajectories: 200.0, average_reward_among_trajectories: 192.35\n",
            "episode: 770, total mean reward among trajectories: 161.0, average_reward_among_trajectories: 185.2\n",
            "episode: 780, total mean reward among trajectories: 200.0, average_reward_among_trajectories: 182.8\n",
            "episode: 790, total mean reward among trajectories: 181.0, average_reward_among_trajectories: 182.75\n",
            "episode: 800, total mean reward among trajectories: 167.0, average_reward_among_trajectories: 181.2\n",
            "episode: 810, total mean reward among trajectories: 193.0, average_reward_among_trajectories: 182.2\n",
            "episode: 820, total mean reward among trajectories: 180.5, average_reward_among_trajectories: 183.0\n",
            "episode: 830, total mean reward among trajectories: 142.5, average_reward_among_trajectories: 173.75\n",
            "episode: 840, total mean reward among trajectories: 200.0, average_reward_among_trajectories: 192.4\n",
            "episode: 850, total mean reward among trajectories: 200.0, average_reward_among_trajectories: 194.0\n",
            "episode: 860, total mean reward among trajectories: 198.0, average_reward_among_trajectories: 197.4\n",
            "episode: 870, total mean reward among trajectories: 200.0, average_reward_among_trajectories: 193.0\n",
            "episode: 880, total mean reward among trajectories: 191.0, average_reward_among_trajectories: 185.6\n",
            "episode: 890, total mean reward among trajectories: 200.0, average_reward_among_trajectories: 197.75\n",
            "episode: 900, total mean reward among trajectories: 171.0, average_reward_among_trajectories: 174.8\n",
            "episode: 910, total mean reward among trajectories: 200.0, average_reward_among_trajectories: 186.85\n",
            "episode: 920, total mean reward among trajectories: 176.0, average_reward_among_trajectories: 182.7\n",
            "episode: 930, total mean reward among trajectories: 200.0, average_reward_among_trajectories: 190.35\n",
            "episode: 940, total mean reward among trajectories: 93.5, average_reward_among_trajectories: 171.65\n",
            "episode: 950, total mean reward among trajectories: 200.0, average_reward_among_trajectories: 188.8\n",
            "episode: 960, total mean reward among trajectories: 200.0, average_reward_among_trajectories: 189.7\n",
            "episode: 970, total mean reward among trajectories: 138.0, average_reward_among_trajectories: 180.15\n",
            "episode: 980, total mean reward among trajectories: 200.0, average_reward_among_trajectories: 198.55\n",
            "episode: 990, total mean reward among trajectories: 200.0, average_reward_among_trajectories: 197.25\n",
            "episode: 1000, total mean reward among trajectories: 182.0, average_reward_among_trajectories: 188.85\n",
            "episode: 1010, total mean reward among trajectories: 200.0, average_reward_among_trajectories: 191.05\n",
            "episode: 1020, total mean reward among trajectories: 199.0, average_reward_among_trajectories: 181.5\n",
            "episode: 1030, total mean reward among trajectories: 200.0, average_reward_among_trajectories: 190.55\n",
            "episode: 1040, total mean reward among trajectories: 180.0, average_reward_among_trajectories: 178.2\n",
            "episode: 1050, total mean reward among trajectories: 200.0, average_reward_among_trajectories: 190.5\n",
            "episode: 1060, total mean reward among trajectories: 200.0, average_reward_among_trajectories: 182.9\n",
            "episode: 1070, total mean reward among trajectories: 200.0, average_reward_among_trajectories: 196.5\n",
            "episode: 1080, total mean reward among trajectories: 200.0, average_reward_among_trajectories: 192.0\n",
            "episode: 1090, total mean reward among trajectories: 175.0, average_reward_among_trajectories: 194.5\n",
            "episode: 1100, total mean reward among trajectories: 151.5, average_reward_among_trajectories: 193.5\n",
            "episode: 1110, total mean reward among trajectories: 200.0, average_reward_among_trajectories: 194.75\n",
            "episode: 1120, total mean reward among trajectories: 200.0, average_reward_among_trajectories: 196.45\n",
            "episode: 1130, total mean reward among trajectories: 176.5, average_reward_among_trajectories: 193.7\n",
            "episode: 1140, total mean reward among trajectories: 200.0, average_reward_among_trajectories: 200.0\n",
            "episode: 1150, total mean reward among trajectories: 185.5, average_reward_among_trajectories: 197.5\n",
            "episode: 1160, total mean reward among trajectories: 200.0, average_reward_among_trajectories: 192.35\n",
            "episode: 1170, total mean reward among trajectories: 200.0, average_reward_among_trajectories: 194.25\n",
            "episode: 1180, total mean reward among trajectories: 178.0, average_reward_among_trajectories: 192.6\n",
            "episode: 1190, total mean reward among trajectories: 200.0, average_reward_among_trajectories: 196.55\n",
            "episode: 1200, total mean reward among trajectories: 200.0, average_reward_among_trajectories: 185.7\n",
            "episode: 1210, total mean reward among trajectories: 200.0, average_reward_among_trajectories: 179.9\n",
            "episode: 1220, total mean reward among trajectories: 198.5, average_reward_among_trajectories: 181.35\n",
            "episode: 1230, total mean reward among trajectories: 180.5, average_reward_among_trajectories: 169.35\n",
            "episode: 1240, total mean reward among trajectories: 197.0, average_reward_among_trajectories: 185.6\n",
            "episode: 1250, total mean reward among trajectories: 182.5, average_reward_among_trajectories: 189.25\n",
            "episode: 1260, total mean reward among trajectories: 180.0, average_reward_among_trajectories: 185.3\n",
            "episode: 1270, total mean reward among trajectories: 196.0, average_reward_among_trajectories: 179.65\n",
            "episode: 1280, total mean reward among trajectories: 155.5, average_reward_among_trajectories: 190.85\n",
            "episode: 1290, total mean reward among trajectories: 200.0, average_reward_among_trajectories: 187.8\n",
            "episode: 1300, total mean reward among trajectories: 200.0, average_reward_among_trajectories: 187.1\n",
            "episode: 1310, total mean reward among trajectories: 200.0, average_reward_among_trajectories: 194.25\n",
            "episode: 1320, total mean reward among trajectories: 179.0, average_reward_among_trajectories: 190.45\n",
            "episode: 1330, total mean reward among trajectories: 200.0, average_reward_among_trajectories: 189.55\n",
            "episode: 1340, total mean reward among trajectories: 200.0, average_reward_among_trajectories: 188.2\n",
            "episode: 1350, total mean reward among trajectories: 200.0, average_reward_among_trajectories: 196.5\n",
            "episode: 1360, total mean reward among trajectories: 200.0, average_reward_among_trajectories: 193.45\n",
            "episode: 1370, total mean reward among trajectories: 200.0, average_reward_among_trajectories: 193.05\n",
            "episode: 1380, total mean reward among trajectories: 200.0, average_reward_among_trajectories: 193.8\n",
            "episode: 1390, total mean reward among trajectories: 200.0, average_reward_among_trajectories: 199.75\n",
            "episode: 1400, total mean reward among trajectories: 173.5, average_reward_among_trajectories: 190.75\n",
            "episode: 1410, total mean reward among trajectories: 200.0, average_reward_among_trajectories: 183.3\n",
            "episode: 1420, total mean reward among trajectories: 195.0, average_reward_among_trajectories: 198.2\n",
            "episode: 1430, total mean reward among trajectories: 186.5, average_reward_among_trajectories: 195.6\n",
            "episode: 1440, total mean reward among trajectories: 200.0, average_reward_among_trajectories: 198.05\n",
            "episode: 1450, total mean reward among trajectories: 200.0, average_reward_among_trajectories: 200.0\n",
            "episode: 1460, total mean reward among trajectories: 200.0, average_reward_among_trajectories: 194.45\n",
            "episode: 1470, total mean reward among trajectories: 186.0, average_reward_among_trajectories: 197.95\n",
            "episode: 1480, total mean reward among trajectories: 200.0, average_reward_among_trajectories: 191.85\n",
            "episode: 1490, total mean reward among trajectories: 200.0, average_reward_among_trajectories: 197.85\n"
          ],
          "name": "stdout"
        },
        {
          "output_type": "stream",
          "text": [
            "100%|██████████| 1/1 [04:59<00:00, 299.08s/it]"
          ],
          "name": "stderr"
        },
        {
          "output_type": "stream",
          "text": [
            "episode: 1500, total mean reward among trajectories: 200.0, average_reward_among_trajectories: 193.15\n",
            "CPU times: user 4min 55s, sys: 2.09 s, total: 4min 57s\n",
            "Wall time: 4min 59s\n"
          ],
          "name": "stdout"
        },
        {
          "output_type": "stream",
          "text": [
            "\n"
          ],
          "name": "stderr"
        }
      ]
    },
    {
      "cell_type": "code",
      "metadata": {
        "id": "nw_4rhGv5sxd",
        "colab_type": "code",
        "outputId": "db8196f7-6c0e-4349-9ec8-6c2c3bafc701",
        "colab": {
          "base_uri": "https://localhost:8080/",
          "height": 296
        }
      },
      "source": [
        "plt.plot(np.mean(np.mean(statistics_all, axis = 1), axis = 0))\n",
        "plt.plot(np.mean(np.mean(statistics_mean, axis = 1), axis = 0))\n",
        "plt.xlabel('Episode')\n",
        "plt.ylabel('Reward')\n",
        "plt.grid()\n",
        "plt.show()\n",
        "print('Varince of reward = {}'.format(np.var(np.mean(np.mean(statistics_all, axis = 1), axis = 0))))"
      ],
      "execution_count": 0,
      "outputs": [
        {
          "output_type": "display_data",
          "data": {
            "image/png": "[encoded data removed]",
            "text/plain": [
              "<Figure size 432x288 with 1 Axes>"
            ]
          },
          "metadata": {
            "tags": []
          }
        },
        {
          "output_type": "stream",
          "text": [
            "Varince of reward = 4081.7736666666665\n"
          ],
          "name": "stdout"
        }
      ]
    },
    {
      "cell_type": "code",
      "metadata": {
        "id": "L-1bLfv3mo5p",
        "colab_type": "code",
        "colab": {}
      },
      "source": [
        ""
      ],
      "execution_count": 0,
      "outputs": []
    }
  ]
}